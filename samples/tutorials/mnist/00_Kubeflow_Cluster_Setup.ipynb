{
 "cells": [
  {
   "cell_type": "code",
   "execution_count": null,
   "metadata": {},
   "outputs": [],
   "source": [
    "# Copyright 2019 Google Inc. All Rights Reserved.\n",
    "#\n",
    "# Licensed under the Apache License, Version 2.0 (the \"License\");\n",
    "# you may not use this file except in compliance with the License.\n",
    "# You may obtain a copy of the License at\n",
    "#\n",
    "#      http://www.apache.org/licenses/LICENSE-2.0\n",
    "#\n",
    "# Unless required by applicable law or agreed to in writing, software\n",
    "# distributed under the License is distributed on an \"AS IS\" BASIS,\n",
    "# WITHOUT WARRANTIES OR CONDITIONS OF ANY KIND, either express or implied.\n",
    "# See the License for the specific language governing permissions and\n",
    "# limitations under the License.\n",
    "# =============================================================================="
   ]
  },
  {
   "cell_type": "markdown",
   "metadata": {},
   "source": [
    "# Enviroment Setup\n",
    "This notebook helps you deploy kubeflow cluster, and necessary setup for running tutorial from different environment\n",
    "- Notebook server outside kubeflow cluster\n",
    "- Notebook server on AI platform\n",
    "- Notebook server within kubeflow cluster"
   ]
  },
  {
   "cell_type": "markdown",
   "metadata": {},
   "source": [
    "## Summary\n",
    "### Pre-condition\n",
    "- You have a [GCP project setup](https://www.kubeflow.org/docs/gke/deploy/project-setup/) for your Kubeflow Deployment with you having the [owner role](https://cloud.google.com/iam/docs/understanding-roles#primitive_role_definitions) for the project and with the following APIs enabled:\n",
    "    - [Compute Engine API](https://pantheon.corp.google.com/apis/library/compute.googleapis.com)\n",
    "    - [Kubernetes Engine API](https://pantheon.corp.google.com/apis/library/container.googleapis.com)\n",
    "    - [Identity and Access Management(IAM) API](https://pantheon.corp.google.com/apis/library/iam.googleapis.com)\n",
    "    - [Deployment Manager API](https://pantheon.corp.google.com/apis/library/deploymentmanager.googleapis.com)\n",
    "    - [Cloud Resource Manager API](https://pantheon.corp.google.com/apis/library/cloudresourcemanager.googleapis.com)\n",
    "    - [Cloud Filestore API](https://pantheon.corp.google.com/apis/library/file.googleapis.com)\n",
    "    - [AI Platform Training & Prediction API](https://pantheon.corp.google.com/apis/library/ml.googleapis.com)\n",
    "- You have set up [OAuth for Cloud IAP](https://www.kubeflow.org/docs/gke/deploy/oauth-setup/)\n",
    "- You have installed and setup [kubectl](https://kubernetes.io/docs/tasks/tools/install-kubectl/)\n",
    "- You have installed [gcloud-sdk](https://cloud.google.com/sdk/)\n",
    "\n",
    "### Setup steps\n",
    "* Deploy a kubeflow cluster through [CLI](https://www.kubeflow.org/docs/gke/deploy/deploy-cli/)\n",
    "    - `NOTE` : The [UI](https://www.kubeflow.org/docs/gke/deploy/deploy-ui/) method of deploying a kubeflow cluster does not support Kubeflow v0.7 yet\n",
    "    - Download and install kfctl\n",
    "    - Create user credentials\n",
    "    - Setup environment variables\n",
    "\n",
    "* Create service account\n",
    "```bash\n",
    "export SA_NAME = [service account name]\n",
    "gcloud iam service-accounts create ${SA_NAME}\n",
    "gcloud projects add-iam-policy-binding ${PROJECT_ID} \\\n",
    "    --member serviceAccount:${SA_NAME}@${PROJECT_ID}.iam.gserviceaccount.com \\\n",
    "    --role 'roles/owner'\n",
    "gcloud iam service-accounts keys create ~/key.json \\\n",
    "    --iam-account ${SA_NAME}@${PROJECT_ID}.iam.gserviceaccount.com\n",
    "```\n",
    "\n",
    "* Install the lastest version of kfp\n",
    "```python\n",
    "pip3 install kfp --upgrade --user\n",
    "```\n",
    "\n",
    "* Deploy kubefow\n",
    "```bash\n",
    "mkdir -p ${KF_DIR}\n",
    "cd $kf_dir\n",
    "kfctl apply -V -f ${CONFIG_URI}\n",
    "```\n",
    "\n",
    "**Note: the setup is only required for running notebook outside kubeflow cluster. Most of the setup should alreayd be done for Kubeflow pipeline notebook.**"
   ]
  },
  {
   "cell_type": "markdown",
   "metadata": {},
   "source": [
    "## Run Environment\n",
    "\n",
    "**This notebook helps in creating the kubeflow cluster on GCP. Please make sure that you run this notebook in your local cloud shell with cloud SDK installed or on your cloud shell.**"
   ]
  },
  {
   "cell_type": "markdown",
   "metadata": {},
   "source": [
    "## Set up Kubeflow Cluster"
   ]
  },
  {
   "cell_type": "markdown",
   "metadata": {},
   "source": [
    "### Create a working directory"
   ]
  },
  {
   "cell_type": "code",
   "execution_count": null,
   "metadata": {},
   "outputs": [],
   "source": [
    "## Create a new working directory in your current directory. We name is kubeflow but you can change the name\n",
    "\n",
    "work_directory_name = 'kubeflow'\n",
    "\n",
    "! mkdir -p $work_directory_name\n",
    "\n",
    "%cd $work_directory_name"
   ]
  },
  {
   "cell_type": "markdown",
   "metadata": {},
   "source": [
    "### Deploy Kubeflow Cluster"
   ]
  },
  {
   "cell_type": "code",
   "execution_count": null,
   "metadata": {},
   "outputs": [],
   "source": [
    "## Download kfctl v0.7.0\n",
    "! curl -LO https://github.com/kubeflow/kubeflow/releases/download/v0.7.0/kfctl_v0.7.0_linux.tar.gz\n",
    "    \n",
    "## Unpack the tar ball\n",
    "! tar -xvf kfctl_v0.7.0_linux.tar.gz"
   ]
  },
  {
   "cell_type": "code",
   "execution_count": null,
   "metadata": {},
   "outputs": [],
   "source": [
    "## Create user credentials\n",
    "! gcloud auth application-default login"
   ]
  },
  {
   "cell_type": "markdown",
   "metadata": {},
   "source": [
    "### Set up environment variables"
   ]
  },
  {
   "cell_type": "code",
   "execution_count": null,
   "metadata": {},
   "outputs": [],
   "source": [
    "## Setup environment variables - Make sure to replace the <...> with actual values\n",
    "\n",
    "# Set your GCP project ID and the zone where you want to create the Kubeflow deployment\n",
    "%env PROJECT=<ADD GCP PROJECT HERE>\n",
    "%env ZONE=<ADD GCP ZONE TO LAUNCH KUBEFLOW CLUSTER HERE>\n",
    "\n",
    "# google cloud storage bucket\n",
    "%env GCP_BUCKET=gs://<ADD STORAGE LOCATION HERE>\n",
    "\n",
    "# Use the following kfctl configuration file for authentication with \n",
    "# Cloud IAP (recommended):\n",
    "uri = \"https://raw.githubusercontent.com/kubeflow/manifests/v0.7-branch/kfdef/kfctl_gcp_iap.0.7.0.yaml\"\n",
    "uri = uri.strip()\n",
    "%env CONFIG_URI=$uri\n",
    "\n",
    "# For using Cloud IAP for authentication, create environment variables\n",
    "# from the OAuth client ID and secret that you obtained earlier:\n",
    "%env CLIENT_ID=<ADD OAuth CLIENT ID HERE>\n",
    "%env CLIENT_SECRET=<ADD OAuth CLIENT SECRET HERE>\n",
    "\n",
    "# Set KF_NAME to the name of your Kubeflow deployment. You also use this\n",
    "# value as directory name when creating your configuration directory. \n",
    "# See the detailed description in the text below this code snippet.\n",
    "# For example, your deployment name can be 'my-kubeflow' or 'kf-test'.\n",
    "%env KF_NAME=<ADD KUBEFLOW DEPLOYMENT NAME HERE>\n",
    "\n",
    "# Set up name of the service account that should be created and used\n",
    "# while creating the Kubeflow cluster\n",
    "%env SA_NAME=<ADD SERVICE ACCOUNT NAME TO BE CREATED HERE>"
   ]
  },
  {
   "cell_type": "code",
   "execution_count": null,
   "metadata": {},
   "outputs": [],
   "source": [
    "## Use environment variables set up above to update configs\n",
    "! gcloud config set project ${PROJECT}\n",
    "\n",
    "! gcloud config set compute/zone ${ZONE}\n",
    "\n",
    "\n",
    "# Set the path to the base directory where you want to store one or more \n",
    "# Kubeflow deployments. For example, /opt/.\n",
    "# Here we use the current working directory as the base directory\n",
    "# Then set the Kubeflow application directory for this deployment.\n",
    "\n",
    "import os\n",
    "base = os.getcwd()\n",
    "%env BASE_DIR=$base\n",
    "\n",
    "kf_dir = os.getenv('BASE_DIR') + \"/\" + os.getenv('KF_NAME')\n",
    "%env KF_DIR=$kf_dir\n",
    "\n",
    "# The following command is optional. It adds the kfctl binary to your path.\n",
    "# If you don't add kfctl to your path, you must use the full path\n",
    "# each time you run kfctl. In this example, the kfctl file is present in\n",
    "# the current directory\n",
    "new_path = os.getenv('PATH') + \":\" + os.getenv('BASE_DIR')\n",
    "%env PATH=$new_path"
   ]
  },
  {
   "cell_type": "markdown",
   "metadata": {},
   "source": [
    "### Create service account\n"
   ]
  },
  {
   "cell_type": "code",
   "execution_count": null,
   "metadata": {},
   "outputs": [],
   "source": [
    "! gcloud iam service-accounts create ${SA_NAME}\n",
    "! gcloud projects add-iam-policy-binding ${PROJECT} \\\n",
    "  --member serviceAccount:${SA_NAME}@${PROJECT}.iam.gserviceaccount.com \\\n",
    "  --role 'roles/owner'\n",
    "! gcloud iam service-accounts keys create key.json \\\n",
    "  --iam-account ${SA_NAME}@${PROJECT}.iam.gserviceaccount.com"
   ]
  },
  {
   "cell_type": "markdown",
   "metadata": {},
   "source": [
    "### Set GOOGLE_APPLICATION_CREDENTIALS"
   ]
  },
  {
   "cell_type": "code",
   "execution_count": null,
   "metadata": {},
   "outputs": [],
   "source": [
    "key_path = os.getenv('BASE_DIR') + \"/\" + 'key.json'\n",
    "%env GOOGLE_APPLICATION_CREDENTIALS=$key_path"
   ]
  },
  {
   "cell_type": "markdown",
   "metadata": {},
   "source": [
    "### Install kfp"
   ]
  },
  {
   "cell_type": "code",
   "execution_count": null,
   "metadata": {},
   "outputs": [],
   "source": [
    "%%capture\n",
    "\n",
    "# Install the SDK (Uncomment the code if the SDK is not installed before)\n",
    "! pip3 install 'kfp>=0.1.36' --quiet --user"
   ]
  },
  {
   "cell_type": "markdown",
   "metadata": {},
   "source": [
    "### Setup and deploy Kubeflow"
   ]
  },
  {
   "cell_type": "code",
   "execution_count": null,
   "metadata": {},
   "outputs": [],
   "source": [
    "! mkdir -p ${KF_DIR}\n",
    "%cd $kf_dir\n",
    "! kfctl apply -V -f ${CONFIG_URI}"
   ]
  },
  {
   "cell_type": "markdown",
   "metadata": {},
   "source": [
    "# Sanity Check"
   ]
  },
  {
   "cell_type": "markdown",
   "metadata": {},
   "source": [
    "### Install kubectl"
   ]
  },
  {
   "cell_type": "code",
   "execution_count": null,
   "metadata": {},
   "outputs": [],
   "source": [
    "## Download kubectl latest stable release\n",
    "! curl -LO https://storage.googleapis.com/kubernetes-release/release/`curl -s https://storage.googleapis.com/kubernetes-release/release/stable.txt`/bin/linux/amd64/kubectl\n",
    "        \n",
    "## Make the kubectl binary executable\n",
    "! chmod +x ./kubectl\n",
    "\n",
    "## Move the binary into your PATH\n",
    "! sudo mv ./kubectl /usr/local/bin/kubectl"
   ]
  },
  {
   "cell_type": "markdown",
   "metadata": {},
   "source": [
    "### Check the ingress created"
   ]
  },
  {
   "cell_type": "code",
   "execution_count": null,
   "metadata": {},
   "outputs": [],
   "source": [
    "! kubectl -n istio-system describe ingress"
   ]
  },
  {
   "cell_type": "markdown",
   "metadata": {},
   "source": [
    "Access the kubeflow cluster at **`https://<KF_NAME>.endpoints.<gcp_project_id>.cloud.goog/`**\n",
    "\n",
    "Note that it may take upto 15-20 mins for the above url to be functional."
   ]
  },
  {
   "cell_type": "code",
   "execution_count": null,
   "metadata": {},
   "outputs": [],
   "source": []
  }
 ],
 "metadata": {
  "kernelspec": {
   "display_name": "Python 3",
   "language": "python",
   "name": "python3"
  },
  "language_info": {
   "codemirror_mode": {
    "name": "ipython",
    "version": 3
   },
   "file_extension": ".py",
   "mimetype": "text/x-python",
   "name": "python",
   "nbconvert_exporter": "python",
   "pygments_lexer": "ipython3",
   "version": "3.7.3"
  }
 },
 "nbformat": 4,
 "nbformat_minor": 2
}
