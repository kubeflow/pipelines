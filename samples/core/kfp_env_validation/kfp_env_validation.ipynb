{
 "cells": [
  {
   "cell_type": "code",
   "execution_count": null,
   "metadata": {},
   "outputs": [],
   "source": [
    "# Copyright 2019 Google Inc. All Rights Reserved.\n",
    "#\n",
    "# Licensed under the Apache License, Version 2.0 (the \"License\");\n",
    "# you may not use this file except in compliance with the License.\n",
    "# You may obtain a copy of the License at\n",
    "#\n",
    "#     http://www.apache.org/licenses/LICENSE-2.0\n",
    "#\n",
    "# Unless required by applicable law or agreed to in writing, software\n",
    "# distributed under the License is distributed on an \"AS IS\" BASIS,\n",
    "# WITHOUT WARRANTIES OR CONDITIONS OF ANY KIND, either express or implied.\n",
    "# See the License for the specific language governing permissions and\n",
    "# limitations under the License."
   ]
  },
  {
   "cell_type": "code",
   "execution_count": null,
   "metadata": {},
   "outputs": [],
   "source": [
    "# Install Pipeline SDK - This only needs to be ran once in the enviroment. \n",
    "!python3 -m pip install 'kfp>=0.1.31' --quiet"
   ]
  },
  {
   "cell_type": "markdown",
   "metadata": {},
   "source": [
    "# KubeFlow Pipelines - Creating an environment validation step using KFP diagnose_me libraries \n",
    "\n",
    "This notebook creates a parametrized environment validation step that allows users to specify Google Cloud APIs that are needed for pipeline execution and validates if they are enabled. \n"
   ]
  },
  {
   "cell_type": "code",
   "execution_count": null,
   "metadata": {},
   "outputs": [],
   "source": [
    "def verify_gcp_credentials() -> bool:\n",
    "    \"\"\" This pipeline steps verifies if gcp credentials are configured correctly.\n",
    "\n",
    "    Raises:\n",
    "        RuntimeError: If gcp credentials are not configured correctly\n",
    "    \"\"\"\n",
    "\n",
    "    # Install pip3 and kfp on this image\n",
    "    import subprocess\n",
    "    subprocess.run(\n",
    "      ['curl', 'https://bootstrap.pypa.io/get-pip.py', '-o', 'get-pip.py'],\n",
    "      capture_output=True)\n",
    "    subprocess.run(['apt-get', 'install', 'python3-distutils', '--yes'],\n",
    "                 capture_output=True)\n",
    "    subprocess.run(['python3', 'get-pip.py'], capture_output=True)\n",
    "    subprocess.run(['python3', '-m', 'pip', 'install', 'kfp', '--quiet'],\n",
    "                 capture_output=True)\n",
    "\n",
    "    import sys\n",
    "    from typing import List, Text\n",
    "    import os\n",
    "    from kfp.cli.diagnose_me import gcp\n",
    "\n",
    "    # Get the project ID to construct an API enable link if needed\n",
    "    project_config = gcp.get_gcp_configuration(\n",
    "      gcp.Commands.GET_GCLOUD_DEFAULT, human_readable=False)\n",
    "    project_id = ''\n",
    "    if not project_config.has_error:\n",
    "        project_id = project_config.parsed_output['core']['project']\n",
    "        print('GCP credentials are configured with access to project: %s ...' %\n",
    "              (project_id))\n",
    "        return True\n",
    "\n",
    "    raise RuntimeError(\n",
    "      'Project configuration is not accessible with error  %s\\n' %\n",
    "      (project_config.stderr) + 'Follow the instructions at\\n' +\n",
    "      'https://github.com/kubeflow/pipelines/tree/master/samples/core/parameterized_tfx_oss#permission\\n'\n",
    "      + 'to verify you have configured the required gcp secret.')"
   ]
  },
  {
   "cell_type": "code",
   "execution_count": null,
   "metadata": {},
   "outputs": [],
   "source": [
    "def verfiy_gcp_apis(target_apis:str)-> bool:\n",
    "    \"\"\" This pipeline steps verifies if specified APIs are enabled under the gcp project.\n",
    "    \n",
    "    \n",
    "    Args: \n",
    "        target_apis: comma separated name of the apis\n",
    "    \n",
    "    Raises:\n",
    "        RuntimeError: If gcp secret is not configured correctly, or service account does not \n",
    "        have proper previliage to acccess the API status. \n",
    "    \"\"\"\n",
    "    \n",
    "    # Install pip3 and kfp on this image \n",
    "    import subprocess\n",
    "    subprocess.run(['curl','https://bootstrap.pypa.io/get-pip.py','-o','get-pip.py'], capture_output=True)\n",
    "    subprocess.run(['apt-get', 'install', 'python3-distutils','--yes'], capture_output=True)\n",
    "    subprocess.run(['python3', 'get-pip.py'], capture_output=True)\n",
    "    subprocess.run(['python3', '-m','pip','install','kfp', '--quiet'], capture_output=True)\n",
    "    \n",
    "    \n",
    "    import sys\n",
    "    from typing import List, Text \n",
    "    import os\n",
    "    from kfp.cli.diagnose_me import gcp\n",
    "    \n",
    "    # Get the project ID to construct an API enable link if needed\n",
    "    project_config = gcp.get_gcp_configuration(gcp.Commands.GET_GCLOUD_DEFAULT,human_readable=False)\n",
    "    project_id = ''   \n",
    "    if not project_config.has_error:\n",
    "        project_id = project_config.parsed_output['core']['project']\n",
    "        print('Verifying APIs in project %s ...' % (project_id))\n",
    "    else: \n",
    "        project_id = '<YOUR-GCP-PROJECT-ID>'\n",
    "        raise RuntimeError('Could not retrieve project ID with error  %s' % (project_config.stderr))\n",
    "        \n",
    "    # Get the status of GCP APIs and add the results to a dictionary\n",
    "    api_config_results = gcp.get_gcp_configuration(\n",
    "        gcp.Commands.GET_APIS)\n",
    "    \n",
    "    api_status = {}\n",
    "    \n",
    "    if api_config_results.has_error:\n",
    "        raise RuntimeError('could not retrieve API status with error: %s' %(api_config_results.stderr))\n",
    "    \n",
    "    for item in api_config_results.parsed_output:\n",
    "        api_status[item['config']['name']] =  item['state']\n",
    "        # printing the results in stdout for logging purposes \n",
    "        print('%s %s' % (item['config']['name'], item['state']))\n",
    "    \n",
    "\n",
    "    # Check if target apis are enabled \n",
    "    api_check_results = True\n",
    "    error_list = []\n",
    "    for api in target_apis.replace(' ','').split(','): \n",
    "        if 'ENABLED'!= api_status.get(api, 'DISABLED'):\n",
    "            api_check_results = False\n",
    "            error_list.append('API \\\"%s\\\" is not enabled. To enable this api go to https://pantheon.corp.google.com/apis/library/%s?project=%s' %(api,api,project_id))\n",
    "            \n",
    "    if api_check_results:\n",
    "        return True\n",
    "    else:\n",
    "        raise RuntimeError('Required APIs are not enabled:\\n'+ '\\n'.join(error_list))"
   ]
  },
  {
   "cell_type": "code",
   "execution_count": null,
   "metadata": {},
   "outputs": [],
   "source": [
    "import kfp.components as comp\n",
    "verify_gcp_credentials_op = comp.func_to_container_op(\n",
    "    verify_gcp_credentials, base_image='google/cloud-sdk:latest')\n",
    "verify_gcp_apis_op = comp.func_to_container_op(\n",
    "    verfiy_gcp_apis, base_image='google/cloud-sdk:latest')"
   ]
  },
  {
   "cell_type": "code",
   "execution_count": null,
   "metadata": {},
   "outputs": [],
   "source": [
    "from kfp.gcp import use_gcp_secret\n",
    "from kfp import dsl\n",
    "\n",
    "@dsl.pipeline(\n",
    "    name='Verify KFP Env',\n",
    "    description=\"\"\"\n",
    "    Verfies if env is configured properly by specifically verifying\n",
    "    - Credentials are set correctly\n",
    "    - The specified APIs are enabled in the project. To learn more about\n",
    "    available APIs go to https://pantheon.corp.google.com/apis/library/.\"\"\"\n",
    ")\n",
    "def verify_gcp_kfp_env(\n",
    "    target_apis='stackdriver.googleapis.com, storage-api.googleapis.com, '\n",
    "                'bigquery.googleapis.com, dataflow.googleapis.com'\n",
    "):\n",
    "    \"\"\"A sample pipeline that verifies KFP redentials and API\"\"\"\n",
    "    task1 = verify_gcp_credentials_op().apply(use_gcp_secret('user-gcp-sa'))\n",
    "    task2 = verify_gcp_apis_op(target_apis).apply(use_gcp_secret('user-gcp-sa'))\n",
    "    task2.after(task1)"
   ]
  },
  {
   "cell_type": "code",
   "execution_count": null,
   "metadata": {},
   "outputs": [],
   "source": [
    "import kfp\n",
    "client = kfp.Client(host='d9f20dcfd673558-dot-us-central1.notebooks.googleusercontent.com')"
   ]
  },
  {
   "cell_type": "code",
   "execution_count": null,
   "metadata": {},
   "outputs": [],
   "source": [
    "client.create_run_from_pipeline_func(verify_gcp_kfp_env, arguments={})"
   ]
  },
  {
   "cell_type": "code",
   "execution_count": null,
   "metadata": {},
   "outputs": [],
   "source": [
    "kfp.compiler.Compiler().compile(verify_gcp_kfp_env,'kfp_env_validation.yaml')"
   ]
  },
  {
   "cell_type": "code",
   "execution_count": null,
   "metadata": {},
   "outputs": [],
   "source": []
  }
 ],
 "metadata": {
  "kernelspec": {
   "display_name": "Python 3",
   "language": "python",
   "name": "python3"
  },
  "language_info": {
   "codemirror_mode": {
    "name": "ipython",
    "version": 3
   },
   "file_extension": ".py",
   "mimetype": "text/x-python",
   "name": "python",
   "nbconvert_exporter": "python",
   "pygments_lexer": "ipython3",
   "version": "3.5.3"
  }
 },
 "nbformat": 4,
 "nbformat_minor": 4
}
