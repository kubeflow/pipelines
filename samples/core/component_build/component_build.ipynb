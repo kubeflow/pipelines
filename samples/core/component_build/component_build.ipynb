{
 "cells": [
  {
   "source": [
    "# Copyright 2019 Google Inc. All Rights Reserved.\n",
    "#\n",
    "# Licensed under the Apache License, Version 2.0 (the \"License\");\n",
    "# you may not use this file except in compliance with the License.\n",
    "# You may obtain a copy of the License at\n",
    "#\n",
    "#     http://www.apache.org/licenses/LICENSE-2.0\n",
    "#\n",
    "# Unless required by applicable law or agreed to in writing, software\n",
    "# distributed under the License is distributed on an \"AS IS\" BASIS,\n",
    "# WITHOUT WARRANTIES OR CONDITIONS OF ANY KIND, either express or implied.\n",
    "# See the License for the specific language governing permissions and\n",
    "# limitations under the License.\n",
    "\n",
    ""
   ],
   "cell_type": "code",
   "outputs": [],
   "metadata": {},
   "execution_count": 0
  },
  {
   "source": [
    "# Install Pipeline SDK - This only needs to be ran once in the enviroment. \n",
    "get_ipython().system('pip3 install kfp --upgrade')\n",
    ""
   ],
   "cell_type": "code",
   "outputs": [],
   "metadata": {},
   "execution_count": 0
  },
  {
   "cell_type": "markdown",
   "source": [
    " # Kubeflow Pipelines container building sample\n",
    "\n",
    " Reference documentation:\n",
    " * https://www.kubeflow.org/docs/pipelines/sdk/build-component/\n",
    " * https://www.kubeflow.org/docs/pipelines/sdk/sdk-overview/"
   ],
   "metadata": {}
  },
  {
   "cell_type": "markdown",
   "source": [
    " ## Setup"
   ],
   "metadata": {}
  },
  {
   "source": [
    "experiment_name = 'container_building'\n",
    ""
   ],
   "cell_type": "code",
   "outputs": [],
   "metadata": {},
   "execution_count": 0
  },
  {
   "cell_type": "markdown",
   "source": [
    " ## Create a python function"
   ],
   "metadata": {}
  },
  {
   "source": [
    "def add(a: float, b: float) -> float:\n",
    " '''Calculates sum of two arguments'''\n",
    " \n",
    " print(\"Adding two values %s and %s\" %(a, b))\n",
    " \n",
    " return a + b\n",
    ""
   ],
   "cell_type": "code",
   "outputs": [],
   "metadata": {},
   "execution_count": 0
  },
  {
   "cell_type": "markdown",
   "source": [
    " ## Build a new container for and use is as the base image for components.\n",
    " Build and push a new container image that includes some required packages.\n",
    " Use the new container image as the base image for components.\n",
    " Create a new component from the above function.\n",
    " The return value \"add_op\" represents a step that can be used directly in a pipeline function."
   ],
   "metadata": {}
  },
  {
   "source": [
    "import kfp\n",
    "from kfp.containers import build_image_from_working_dir\n",
    "from kfp.components import func_to_container_op\n",
    "\n",
    "from pathlib import Path\n",
    "import tempfile\n",
    "\n",
    "packages = ['google-api-python-client == 1.7.0']\n",
    "# Setting up a directory that contains requirements.txt file with our required packages\n",
    "with tempfile.TemporaryDirectory() as working_dir: # By default build_image_from_working_dir just uses the current directory\n",
    " (Path(working_dir) / 'requirements.txt').write_text('\\n'.join(packages))\n",
    "\n",
    "# Building and pushing new container image\n",
    "image_with_packages = build_image_from_working_dir(\n",
    " working_dir=working_dir, # Optional. Default is the current directory\n",
    " base_image='google/cloud-sdk:latest', # Optional\n",
    " #image_name=TARGET_IMAGE, # Optional. Default is gcr.io/<project_id>/<notebook_id>/kfp_container\n",
    ")\n",
    "\n",
    "add_op = func_to_container_op(add, base_image=image_with_packages)\n",
    "\n",
    ""
   ],
   "cell_type": "code",
   "outputs": [],
   "metadata": {},
   "execution_count": 0
  },
  {
   "cell_type": "markdown",
   "source": [
    " ### Build a pipeline using this component"
   ],
   "metadata": {}
  },
  {
   "source": [
    "import kfp.dsl as dsl\n",
    "@dsl.pipeline(\n",
    "   name='Calculation pipeline',\n",
    "   description='A sample pipeline that performs arithmetic calculations.'\n",
    ")\n",
    "def calc_pipeline(\n",
    "   a='1',\n",
    "   b='7',\n",
    "   c='17',\n",
    "):\n",
    " #Passing pipeline parameter and a constant value as operation arguments\n",
    " add_task = add_op(a, b) #Returns a dsl.ContainerOp class instance. \n",
    " \n",
    " #You can create explicit dependancy between the tasks using xyz_task.after(abc_task)\n",
    " add_2_task = add_op(b, c)\n",
    " \n",
    " add_3_task = add_op(add_task.output, add_2_task.output)\n",
    ""
   ],
   "cell_type": "code",
   "outputs": [],
   "metadata": {},
   "execution_count": 0
  },
  {
   "cell_type": "markdown",
   "source": [
    " ## Submit the pipeline for execution"
   ],
   "metadata": {}
  },
  {
   "source": [
    "arguments = {'a': '7', 'b': '8'}\n",
    "kfp.Client().create_run_from_pipeline_func(pipeline_func=calc_pipeline, arguments=arguments, experiment_name=experiment_name)\n",
    "\n",
    "# This should output link that leads to the run information page. \n",
    "# Note: There is a bug in JupyterLab that modifies the URL and makes the link stop working\n",
    ""
   ],
   "cell_type": "code",
   "outputs": [],
   "metadata": {},
   "execution_count": 0
  }
 ],
 "nbformat": 4,
 "nbformat_minor": 2,
 "metadata": {
  "kernelspec": {
   "display_name": "Python 3",
   "language": "python",
   "name": "python3"
  },
  "language_info": {
   "name": "python",
   "codemirror_mode": {
    "name": "ipython",
    "version": 3
   }
  },
  "orig_nbformat": 2,
  "file_extension": ".py",
  "mimetype": "text/x-python",
  "name": "python",
  "npconvert_exporter": "python",
  "pygments_lexer": "ipython3",
  "version": 3
 }
}