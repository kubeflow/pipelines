{
 "cells": [
  {
   "cell_type": "markdown",
   "metadata": {},
   "source": [
    "# Lightweight python components\n",
    "\n",
    "Lightweight python components do not require you to build a new container image for every code change.\n",
    "They're intended to use for fast iteration in notebook environment.\n",
    "\n",
    "#### Building a lightweight python component\n",
    "To build a component just define a stand-alone python function and then call kfp.components.func_to_container_op(func) to convert it to a component that can be used in a pipeline.\n",
    "\n",
    "There are several requirements for the function:\n",
    "* The function should be stand-alone. It should not use any code declared outside of the function definition. Any imports should be added inside the main function. Any helper functions should also be defined inside the main function.\n",
    "* The function can only import packages that are available in the base image. If you need to import a package that's not available you can try to find a container image that already includes the required packages. (As a workaround you can use the module subprocess to run pip install for the required package.)\n",
    "* If the function operates on numbers, the parameters need to have type hints. Supported types are ```[int, float, bool]```. Everything else is passed as string.\n",
    "* To build a component with multiple output values, use the typing.NamedTuple type hint syntax: ```NamedTuple('MyFunctionOutputs', [('output_name_1', type), ('output_name_2', float)])```"
   ]
  },
  {
   "cell_type": "code",
   "execution_count": 8,
   "metadata": {
    "tags": [
     "parameters"
    ]
   },
   "outputs": [],
   "source": [
    "EXPERIMENT_NAME = 'lightweight python components'\n",
    "KFP_PACKAGE = 'https://storage.googleapis.com/ml-pipeline/release/0.1.7/kfp.tar.gz'"
   ]
  },
  {
   "cell_type": "code",
   "execution_count": 9,
   "metadata": {},
   "outputs": [
    {
     "name": "stdout",
     "output_type": "stream",
     "text": [
      "Collecting https://storage.googleapis.com/ml-pipeline/release/0.1.7/kfp.tar.gz\n",
      "  Using cached https://storage.googleapis.com/ml-pipeline/release/0.1.7/kfp.tar.gz\n",
      "Requirement already satisfied, skipping upgrade: urllib3>=1.15 in /Users/adselvar/Library/Python/3.7/lib/python/site-packages (from kfp==0.1) (1.23)\n",
      "Requirement already satisfied, skipping upgrade: six>=1.10 in /Users/adselvar/Library/Python/3.7/lib/python/site-packages (from kfp==0.1) (1.11.0)\n",
      "Requirement already satisfied, skipping upgrade: certifi in /usr/local/lib/python3.7/site-packages (from kfp==0.1) (2018.10.15)\n",
      "Requirement already satisfied, skipping upgrade: python-dateutil in /Users/adselvar/Library/Python/3.7/lib/python/site-packages (from kfp==0.1) (2.7.3)\n",
      "Requirement already satisfied, skipping upgrade: PyYAML in /Users/adselvar/Library/Python/3.7/lib/python/site-packages (from kfp==0.1) (3.13)\n",
      "Requirement already satisfied, skipping upgrade: google-cloud-storage==1.13.0 in /usr/local/lib/python3.7/site-packages (from kfp==0.1) (1.13.0)\n",
      "Requirement already satisfied, skipping upgrade: kubernetes==8.0.0 in /usr/local/lib/python3.7/site-packages (from kfp==0.1) (8.0.0)\n",
      "Requirement already satisfied, skipping upgrade: google-resumable-media>=0.3.1 in /usr/local/lib/python3.7/site-packages (from google-cloud-storage==1.13.0->kfp==0.1) (0.3.1)\n",
      "Requirement already satisfied, skipping upgrade: google-api-core<2.0.0dev,>=0.1.1 in /usr/local/lib/python3.7/site-packages (from google-cloud-storage==1.13.0->kfp==0.1) (1.5.2)\n",
      "Requirement already satisfied, skipping upgrade: google-cloud-core<0.29dev,>=0.28.0 in /usr/local/lib/python3.7/site-packages (from google-cloud-storage==1.13.0->kfp==0.1) (0.28.1)\n",
      "Requirement already satisfied, skipping upgrade: requests in /usr/local/lib/python3.7/site-packages (from kubernetes==8.0.0->kfp==0.1) (2.20.1)\n",
      "Requirement already satisfied, skipping upgrade: requests-oauthlib in /usr/local/lib/python3.7/site-packages (from kubernetes==8.0.0->kfp==0.1) (1.0.0)\n",
      "Requirement already satisfied, skipping upgrade: websocket-client!=0.40.0,!=0.41.*,!=0.42.*,>=0.32.0 in /usr/local/lib/python3.7/site-packages (from kubernetes==8.0.0->kfp==0.1) (0.54.0)\n",
      "Requirement already satisfied, skipping upgrade: adal>=1.0.2 in /usr/local/lib/python3.7/site-packages (from kubernetes==8.0.0->kfp==0.1) (1.2.0)\n",
      "Requirement already satisfied, skipping upgrade: google-auth>=1.0.1 in /usr/local/lib/python3.7/site-packages (from kubernetes==8.0.0->kfp==0.1) (1.6.1)\n",
      "Requirement already satisfied, skipping upgrade: setuptools>=21.0.0 in /usr/local/lib/python3.7/site-packages (from kubernetes==8.0.0->kfp==0.1) (40.6.3)\n",
      "Requirement already satisfied, skipping upgrade: protobuf>=3.4.0 in /usr/local/lib/python3.7/site-packages (from google-api-core<2.0.0dev,>=0.1.1->google-cloud-storage==1.13.0->kfp==0.1) (3.6.1)\n",
      "Requirement already satisfied, skipping upgrade: googleapis-common-protos!=1.5.4,<2.0dev,>=1.5.3 in /usr/local/lib/python3.7/site-packages (from google-api-core<2.0.0dev,>=0.1.1->google-cloud-storage==1.13.0->kfp==0.1) (1.5.5)\n",
      "Requirement already satisfied, skipping upgrade: pytz in /usr/local/lib/python3.7/site-packages (from google-api-core<2.0.0dev,>=0.1.1->google-cloud-storage==1.13.0->kfp==0.1) (2018.7)\n",
      "Requirement already satisfied, skipping upgrade: idna<2.8,>=2.5 in /usr/local/lib/python3.7/site-packages (from requests->kubernetes==8.0.0->kfp==0.1) (2.7)\n",
      "Requirement already satisfied, skipping upgrade: chardet<3.1.0,>=3.0.2 in /usr/local/lib/python3.7/site-packages (from requests->kubernetes==8.0.0->kfp==0.1) (3.0.4)\n",
      "Requirement already satisfied, skipping upgrade: oauthlib>=0.6.2 in /usr/local/lib/python3.7/site-packages (from requests-oauthlib->kubernetes==8.0.0->kfp==0.1) (2.1.0)\n",
      "Requirement already satisfied, skipping upgrade: PyJWT>=1.0.0 in /usr/local/lib/python3.7/site-packages (from adal>=1.0.2->kubernetes==8.0.0->kfp==0.1) (1.6.4)\n",
      "Requirement already satisfied, skipping upgrade: cryptography>=1.1.0 in /usr/local/lib/python3.7/site-packages (from adal>=1.0.2->kubernetes==8.0.0->kfp==0.1) (2.4.1)\n",
      "Requirement already satisfied, skipping upgrade: rsa>=3.1.4 in /Users/adselvar/Library/Python/3.7/lib/python/site-packages (from google-auth>=1.0.1->kubernetes==8.0.0->kfp==0.1) (3.4.2)\n",
      "Requirement already satisfied, skipping upgrade: cachetools>=2.0.0 in /usr/local/lib/python3.7/site-packages (from google-auth>=1.0.1->kubernetes==8.0.0->kfp==0.1) (3.0.0)\n",
      "Requirement already satisfied, skipping upgrade: pyasn1-modules>=0.2.1 in /usr/local/lib/python3.7/site-packages (from google-auth>=1.0.1->kubernetes==8.0.0->kfp==0.1) (0.2.2)\n",
      "Requirement already satisfied, skipping upgrade: asn1crypto>=0.21.0 in /usr/local/lib/python3.7/site-packages (from cryptography>=1.1.0->adal>=1.0.2->kubernetes==8.0.0->kfp==0.1) (0.24.0)\n",
      "Requirement already satisfied, skipping upgrade: cffi!=1.11.3,>=1.7 in /usr/local/lib/python3.7/site-packages (from cryptography>=1.1.0->adal>=1.0.2->kubernetes==8.0.0->kfp==0.1) (1.11.5)\n",
      "Requirement already satisfied, skipping upgrade: pyasn1>=0.1.3 in /Users/adselvar/Library/Python/3.7/lib/python/site-packages (from rsa>=3.1.4->google-auth>=1.0.1->kubernetes==8.0.0->kfp==0.1) (0.4.4)\n",
      "Requirement already satisfied, skipping upgrade: pycparser in /usr/local/lib/python3.7/site-packages (from cffi!=1.11.3,>=1.7->cryptography>=1.1.0->adal>=1.0.2->kubernetes==8.0.0->kfp==0.1) (2.19)\n",
      "Building wheels for collected packages: kfp\n",
      "  Running setup.py bdist_wheel for kfp ... \u001b[?25ldone\n",
      "\u001b[?25h  Stored in directory: /private/var/folders/4t/5r35f1f15nb42k1pgy6myh4w0000gp/T/pip-ephem-wheel-cache-74fdts5v/wheels/d4/2c/9a/f56f8f1e4de577e459981a810ac6228805ceec3b19c56527a7\n",
      "Successfully built kfp\n",
      "Installing collected packages: kfp\n",
      "  Found existing installation: kfp 0.1\n",
      "    Uninstalling kfp-0.1:\n",
      "      Successfully uninstalled kfp-0.1\n",
      "Successfully installed kfp-0.1\n"
     ]
    }
   ],
   "source": [
    "# Install the SDK\n",
    "!pip3 install $KFP_PACKAGE --upgrade\n"
   ]
  },
  {
   "cell_type": "code",
   "execution_count": 10,
   "metadata": {},
   "outputs": [],
   "source": [
    "import kfp.components as comp"
   ]
  },
  {
   "cell_type": "code",
   "execution_count": 19,
   "metadata": {},
   "outputs": [],
   "source": [
    "from kubernetes import client, config"
   ]
  },
  {
   "cell_type": "code",
   "execution_count": 33,
   "metadata": {},
   "outputs": [
    {
     "name": "stderr",
     "output_type": "stream",
     "text": [
      "/usr/local/anaconda3/lib/python3.7/site-packages/google/auth/_default.py:66: UserWarning: Your application has authenticated using end user credentials from Google Cloud SDK. We recommend that most server applications use service accounts instead. If your application continues to use end user credentials from Cloud SDK, you might receive a \"quota exceeded\" or \"API not enabled\" error. For more information about service accounts, see https://cloud.google.com/docs/authentication/\n",
      "  warnings.warn(_CLOUD_SDK_CREDENTIALS_WARNING)\n"
     ]
    },
    {
     "name": "stdout",
     "output_type": "stream",
     "text": [
      "Listing pods with their IPs:\n",
      "10.40.7.9\tdefault\twistful-giraffe-0\n",
      "10.40.8.5\tdefault\twistful-giraffe-1\n",
      "10.40.4.12\tdefault\twistful-giraffe-2\n",
      "10.40.6.13\tdefault\twistful-giraffe-3\n",
      "10.40.4.4\tistio-system\tistio-citadel-84fb7985bf-shnt9\n",
      "10.40.4.5\tistio-system\tistio-egressgateway-bd9fb967d-fwqdk\n",
      "10.40.4.6\tistio-system\tistio-galley-655c4f9ccd-zl9ll\n",
      "10.40.5.4\tistio-system\tistio-ingressgateway-688865c5f7-mggpv\n",
      "10.40.6.4\tistio-system\tistio-pilot-6cd69dc444-n7kd4\n",
      "10.40.6.3\tistio-system\tistio-policy-6b9f4697d-bgl74\n",
      "10.40.7.4\tistio-system\tistio-sidecar-injector-8975849b4-n8b75\n",
      "10.40.5.6\tistio-system\tistio-statsd-prom-bridge-7f44bb5ddb-d5qf8\n",
      "10.40.5.9\tistio-system\tistio-telemetry-6b5579595f-n5glh\n",
      "10.40.5.8\tkube-system\tevent-exporter-v0.2.3-54f94754f4-5r4mx\n",
      "10.40.6.5\tkube-system\tfluentd-gcp-scaler-6d7bbc67c5-j4wfd\n",
      "10.40.4.2\tkube-system\tfluentd-gcp-v3.1.0-qrfhx\n",
      "10.40.7.3\tkube-system\tfluentd-gcp-v3.1.0-qtv74\n",
      "10.40.8.2\tkube-system\tfluentd-gcp-v3.1.0-sbq5s\n",
      "10.40.5.3\tkube-system\tfluentd-gcp-v3.1.0-wmbsv\n",
      "10.40.6.2\tkube-system\tfluentd-gcp-v3.1.0-xt2wv\n",
      "10.40.8.6\tkube-system\theapster-v1.5.3-7d75b9cfc-lmj88\n",
      "10.40.6.6\tkube-system\tkube-dns-788979dc8f-ds42k\n",
      "10.40.7.7\tkube-system\tkube-dns-788979dc8f-mfp7b\n",
      "10.40.8.7\tkube-system\tkube-dns-autoscaler-79b4b844b9-chjd6\n",
      "10.138.0.5\tkube-system\tkube-proxy-gke-adhita-pipeline-demo-default-pool-0ea8e9e1-4cmp\n",
      "10.138.0.10\tkube-system\tkube-proxy-gke-adhita-pipeline-demo-default-pool-0ea8e9e1-8hvx\n",
      "10.138.0.4\tkube-system\tkube-proxy-gke-adhita-pipeline-demo-default-pool-0ea8e9e1-bs93\n",
      "10.138.0.11\tkube-system\tkube-proxy-gke-adhita-pipeline-demo-default-pool-0ea8e9e1-ms2w\n",
      "10.138.0.12\tkube-system\tkube-proxy-gke-adhita-pipeline-demo-default-pool-0ea8e9e1-rlt3\n",
      "10.40.5.14\tkube-system\tl7-default-backend-5d5b9874d5-lcftr\n",
      "10.40.6.7\tkube-system\tmetrics-server-v0.2.1-7486f5bd67-wh2bh\n",
      "10.40.5.11\tkube-system\ttiller-deploy-5c688d5f9b-nqmpz\n",
      "10.40.5.7\tkubeflow\tambassador-7fb86f6bc5-5pbnt\n",
      "10.40.7.8\tkubeflow\tambassador-7fb86f6bc5-bccsn\n",
      "10.40.4.14\tkubeflow\tambassador-7fb86f6bc5-j9kx6\n",
      "10.40.5.12\tkubeflow\targo-ui-7b6585d85d-xq54m\n",
      "10.40.8.3\tkubeflow\tcentraldashboard-f8d7d97fb-94g4j\n",
      "10.40.7.2\tkubeflow\tjupyter-adhita\n",
      "10.40.6.12\tkubeflow\tminio-84969865c4-8x5hp\n",
      "10.40.8.9\tkubeflow\tml-pipeline-c4cc67d5f-82mn4\n",
      "10.40.8.8\tkubeflow\tml-pipeline-persistenceagent-5f5c9dd6cd-vrjl2\n",
      "10.40.8.11\tkubeflow\tml-pipeline-scheduledworkflow-5ff9fccc64-2rs7b\n",
      "10.40.8.12\tkubeflow\tml-pipeline-ui-cfd45f6bd-j2vtk\n",
      "None\tkubeflow\tmodel-server-v1-7bb49568d7-j5b6m\n",
      "10.40.5.10\tkubeflow\tmodeldb-backend-69dfc464df-t5kkf\n",
      "10.40.6.9\tkubeflow\tmodeldb-db-6cf5bb764-wg5xn\n",
      "10.40.8.10\tkubeflow\tmodeldb-frontend-74b66f8dc8-2hm5w\n",
      "10.40.5.15\tkubeflow\tmysql-c4c4c8f69-v4mqc\n",
      "10.40.6.8\tkubeflow\tstudyjob-controller-68f5948984-ggm2x\n",
      "10.40.4.3\tkubeflow\ttaxi-cab-classification-model-deploy-using-tfserving-l47cfbz8vt\n",
      "10.40.5.13\tkubeflow\ttaxi-cab-classification-model-tfx-taxi-cab-classification-xz9hx\n",
      "10.40.5.2\tkubeflow\ttensorboard-9tqsl\n",
      "10.40.4.11\tkubeflow\ttf-hub-0\n",
      "10.40.4.7\tkubeflow\ttf-job-dashboard-7cddcdf9c4-jtmq4\n",
      "10.40.6.10\tkubeflow\ttf-job-operator-v1alpha2-6566f45db-97w56\n",
      "10.40.4.8\tkubeflow\tvizier-core-d74cbfd98-6gbzl\n",
      "10.40.6.11\tkubeflow\tvizier-db-cc59bc8bd-9wlc7\n",
      "10.40.8.13\tkubeflow\tvizier-suggestion-bayesianoptimization-788df66688-2k4qs\n",
      "10.40.8.4\tkubeflow\tvizier-suggestion-grid-76c648b78-d4vpv\n",
      "10.40.4.13\tkubeflow\tvizier-suggestion-hyperband-5df8cf7bc8-4nrnr\n",
      "10.40.4.10\tkubeflow\tvizier-suggestion-random-65b9fd7c48-k5cmb\n",
      "10.40.4.9\tkubeflow\tworkflow-controller-59c7967f59-bqphv\n"
     ]
    }
   ],
   "source": [
    "config.load_kube_config(config_file='/Users/adselvar/.kube/config')\n",
    "v1 = client.CoreV1Api()\n",
    "print(\"Listing pods with their IPs:\")\n",
    "ret = v1.list_pod_for_all_namespaces(watch=False)\n",
    "for i in ret.items:\n",
    "    print(\"%s\\t%s\\t%s\" %\n",
    "          (i.status.pod_ip, i.metadata.namespace, i.metadata.name))"
   ]
  },
  {
   "cell_type": "markdown",
   "metadata": {},
   "source": [
    "Simple function that just add two numbers:"
   ]
  },
  {
   "cell_type": "code",
   "execution_count": 34,
   "metadata": {},
   "outputs": [],
   "source": [
    "#Define a Python function\n",
    "def add(a: float, b: float) -> float:\n",
    "   '''Calculates sum of two arguments'''\n",
    "   return a + b"
   ]
  },
  {
   "cell_type": "markdown",
   "metadata": {},
   "source": [
    "Convert the function to a pipeline operation"
   ]
  },
  {
   "cell_type": "code",
   "execution_count": 35,
   "metadata": {},
   "outputs": [],
   "source": [
    "add_op = comp.func_to_container_op(add)"
   ]
  },
  {
   "cell_type": "markdown",
   "metadata": {},
   "source": [
    "A bit more advanced function which demonstrates how to use imports, helper functions and produce multiple outputs."
   ]
  },
  {
   "cell_type": "code",
   "execution_count": 36,
   "metadata": {},
   "outputs": [],
   "source": [
    "#Advanced function\n",
    "#Demonstrates imports, helper functions and multiple outputs\n",
    "from typing import NamedTuple\n",
    "def my_divmod(dividend: float, divisor:float, output_dir:str = './') -> NamedTuple('MyDivmodOutput', [('quotient', float), ('remainder', float)]):\n",
    "    '''Divides two numbers and calculate  the quotient and remainder'''\n",
    "    #Imports inside a component function:\n",
    "    import numpy as np\n",
    "\n",
    "    #This function demonstrates how to use nested functions inside a component function:\n",
    "    def divmod_helper(dividend, divisor):\n",
    "        return np.divmod(dividend, divisor)\n",
    "\n",
    "    (quotient, remainder) = divmod_helper(dividend, divisor)\n",
    "\n",
    "    from tensorflow.python.lib.io import file_io\n",
    "    import json\n",
    "    \n",
    "    # Exports a sample tensorboard:\n",
    "    metadata = {\n",
    "      'outputs' : [{\n",
    "        'type': 'tensorboard',\n",
    "        'source': 'gs://ml-pipeline-dataset/tensorboard-train',\n",
    "      }]\n",
    "    }\n",
    "    with open(output_dir + 'mlpipeline-ui-metadata.json', 'w') as f:\n",
    "      json.dump(metadata, f)\n",
    "\n",
    "    # Exports two sample metrics:\n",
    "    metrics = {\n",
    "      'metrics': [{\n",
    "          'name': 'quotient',\n",
    "          'numberValue':  float(quotient),\n",
    "        },{\n",
    "          'name': 'remainder',\n",
    "          'numberValue':  float(remainder),\n",
    "        }]}\n",
    "\n",
    "    with file_io.FileIO(output_dir + 'mlpipeline-metrics.json', 'w') as f:\n",
    "        json.dump(metrics, f)\n",
    "\n",
    "    from collections import namedtuple\n",
    "    divmod_output = namedtuple('MyDivmodOutput', ['quotient', 'remainder'])\n",
    "    return divmod_output(quotient, remainder)"
   ]
  },
  {
   "cell_type": "markdown",
   "metadata": {},
   "source": [
    "Test running the python function directly"
   ]
  },
  {
   "cell_type": "code",
   "execution_count": 37,
   "metadata": {},
   "outputs": [
    {
     "ename": "ModuleNotFoundError",
     "evalue": "No module named 'tensorflow'",
     "output_type": "error",
     "traceback": [
      "\u001b[0;31m---------------------------------------------------------------------------\u001b[0m",
      "\u001b[0;31mModuleNotFoundError\u001b[0m                       Traceback (most recent call last)",
      "\u001b[0;32m<ipython-input-37-08fdbaeaec68>\u001b[0m in \u001b[0;36m<module>\u001b[0;34m()\u001b[0m\n\u001b[0;32m----> 1\u001b[0;31m \u001b[0mmy_divmod\u001b[0m\u001b[0;34m(\u001b[0m\u001b[0;36m100\u001b[0m\u001b[0;34m,\u001b[0m \u001b[0;36m7\u001b[0m\u001b[0;34m)\u001b[0m\u001b[0;34m\u001b[0m\u001b[0m\n\u001b[0m",
      "\u001b[0;32m<ipython-input-36-faf57c25d416>\u001b[0m in \u001b[0;36mmy_divmod\u001b[0;34m(dividend, divisor, output_dir)\u001b[0m\n\u001b[1;32m     13\u001b[0m     \u001b[0;34m(\u001b[0m\u001b[0mquotient\u001b[0m\u001b[0;34m,\u001b[0m \u001b[0mremainder\u001b[0m\u001b[0;34m)\u001b[0m \u001b[0;34m=\u001b[0m \u001b[0mdivmod_helper\u001b[0m\u001b[0;34m(\u001b[0m\u001b[0mdividend\u001b[0m\u001b[0;34m,\u001b[0m \u001b[0mdivisor\u001b[0m\u001b[0;34m)\u001b[0m\u001b[0;34m\u001b[0m\u001b[0m\n\u001b[1;32m     14\u001b[0m \u001b[0;34m\u001b[0m\u001b[0m\n\u001b[0;32m---> 15\u001b[0;31m     \u001b[0;32mfrom\u001b[0m \u001b[0mtensorflow\u001b[0m\u001b[0;34m.\u001b[0m\u001b[0mpython\u001b[0m\u001b[0;34m.\u001b[0m\u001b[0mlib\u001b[0m\u001b[0;34m.\u001b[0m\u001b[0mio\u001b[0m \u001b[0;32mimport\u001b[0m \u001b[0mfile_io\u001b[0m\u001b[0;34m\u001b[0m\u001b[0m\n\u001b[0m\u001b[1;32m     16\u001b[0m     \u001b[0;32mimport\u001b[0m \u001b[0mjson\u001b[0m\u001b[0;34m\u001b[0m\u001b[0m\n\u001b[1;32m     17\u001b[0m \u001b[0;34m\u001b[0m\u001b[0m\n",
      "\u001b[0;31mModuleNotFoundError\u001b[0m: No module named 'tensorflow'"
     ]
    }
   ],
   "source": [
    "my_divmod(100, 7)"
   ]
  },
  {
   "cell_type": "markdown",
   "metadata": {},
   "source": [
    "#### Convert the function to a pipeline operation\n",
    "\n",
    "You can specify an alternative base container image (the image needs to have Python 3.5+ installed)."
   ]
  },
  {
   "cell_type": "code",
   "execution_count": 38,
   "metadata": {},
   "outputs": [],
   "source": [
    "divmod_op = comp.func_to_container_op(my_divmod, base_image='tensorflow/tensorflow:1.11.0-py3')"
   ]
  },
  {
   "cell_type": "markdown",
   "metadata": {},
   "source": [
    "#### Define the pipeline\n",
    "Pipeline function has to be decorated with the `@dsl.pipeline` decorator and the parameters must have default values of type `dsl.PipelineParam`"
   ]
  },
  {
   "cell_type": "code",
   "execution_count": 39,
   "metadata": {},
   "outputs": [],
   "source": [
    "import kfp.dsl as dsl\n",
    "@dsl.pipeline(\n",
    "   name='Calculation pipeline',\n",
    "   description='A toy pipeline that performs arithmetic calculations.'\n",
    ")\n",
    "def calc_pipeline(\n",
    "   a='a',\n",
    "   b='7',\n",
    "   c='17',\n",
    "):\n",
    "    #Passing pipeline parameter and a constant value as operation arguments\n",
    "    add_task = add_op(a, 4) #Returns a dsl.ContainerOp class instance. \n",
    "    \n",
    "    #Passing a task output reference as operation arguments\n",
    "    #For an operation with a single return value, the output reference can be accessed using `task.output` or `task.outputs['output_name']` syntax\n",
    "    divmod_task = divmod_op(add_task.output, b, '/')\n",
    "\n",
    "    #For an operation with a multiple return values, the output references can be accessed using `task.outputs['output_name']` syntax\n",
    "    result_task = add_op(divmod_task.outputs['quotient'], c)"
   ]
  },
  {
   "cell_type": "markdown",
   "metadata": {},
   "source": [
    "#### Compile the pipeline"
   ]
  },
  {
   "cell_type": "code",
   "execution_count": 40,
   "metadata": {},
   "outputs": [],
   "source": [
    "pipeline_func = calc_pipeline\n",
    "pipeline_filename = pipeline_func.__name__ + '.pipeline.tar.gz'\n",
    "import kfp.compiler as compiler\n",
    "compiler.Compiler().compile(pipeline_func, pipeline_filename)"
   ]
  },
  {
   "cell_type": "markdown",
   "metadata": {},
   "source": [
    "#### Submit the pipeline for execution"
   ]
  },
  {
   "cell_type": "code",
   "execution_count": 41,
   "metadata": {},
   "outputs": [
    {
     "ename": "SyntaxError",
     "evalue": "invalid syntax (experiment_service_api.py, line 127)",
     "output_type": "error",
     "traceback": [
      "Traceback \u001b[0;36m(most recent call last)\u001b[0m:\n",
      "  File \u001b[1;32m\"/usr/local/anaconda3/lib/python3.7/site-packages/IPython/core/interactiveshell.py\"\u001b[0m, line \u001b[1;32m2961\u001b[0m, in \u001b[1;35mrun_code\u001b[0m\n    exec(code_obj, self.user_global_ns, self.user_ns)\n",
      "  File \u001b[1;32m\"<ipython-input-41-84eac3c53c35>\"\u001b[0m, line \u001b[1;32m6\u001b[0m, in \u001b[1;35m<module>\u001b[0m\n    client = kfp.Client()\n",
      "  File \u001b[1;32m\"/usr/local/anaconda3/lib/python3.7/site-packages/kfp/_client.py\"\u001b[0m, line \u001b[1;32m44\u001b[0m, in \u001b[1;35m__init__\u001b[0m\n    import kfp_experiment\n",
      "  File \u001b[1;32m\"/usr/local/anaconda3/lib/python3.7/site-packages/kfp_experiment/__init__.py\"\u001b[0m, line \u001b[1;32m19\u001b[0m, in \u001b[1;35m<module>\u001b[0m\n    from kfp_experiment.api.experiment_service_api import ExperimentServiceApi\n",
      "\u001b[0;36m  File \u001b[0;32m\"/usr/local/anaconda3/lib/python3.7/site-packages/kfp_experiment/api/__init__.py\"\u001b[0;36m, line \u001b[0;32m6\u001b[0;36m, in \u001b[0;35m<module>\u001b[0;36m\u001b[0m\n\u001b[0;31m    from kfp_experiment.api.experiment_service_api import ExperimentServiceApi\u001b[0m\n",
      "\u001b[0;36m  File \u001b[0;32m\"/usr/local/anaconda3/lib/python3.7/site-packages/kfp_experiment/api/experiment_service_api.py\"\u001b[0;36m, line \u001b[0;32m127\u001b[0m\n\u001b[0;31m    async=params.get('async'),\u001b[0m\n\u001b[0m        ^\u001b[0m\n\u001b[0;31mSyntaxError\u001b[0m\u001b[0;31m:\u001b[0m invalid syntax\n"
     ]
    }
   ],
   "source": [
    "#Specify pipeline argument values\n",
    "arguments = {'a': '7', 'b': '8'}\n",
    "\n",
    "#Get or create an experiment and submit a pipeline run\n",
    "import kfp\n",
    "client = kfp.Client()\n",
    "experiment = client.create_experiment(EXPERIMENT_NAME)\n",
    "\n",
    "#Submit a pipeline run\n",
    "run_name = pipeline_func.__name__ + ' run'\n",
    "run_result = client.run_pipeline(experiment.id, run_name, pipeline_filename, arguments)\n",
    "\n",
    "#vvvvvvvvv This link leads to the run information page. (Note: There is a bug in JupyterLab that modifies the URL and makes the link stop working)"
   ]
  },
  {
   "cell_type": "code",
   "execution_count": null,
   "metadata": {},
   "outputs": [],
   "source": []
  }
 ],
 "metadata": {
  "kernelspec": {
   "display_name": "Python 3",
   "language": "python",
   "name": "python3"
  },
  "language_info": {
   "codemirror_mode": {
    "name": "ipython",
    "version": 3
   },
   "file_extension": ".py",
   "mimetype": "text/x-python",
   "name": "python",
   "nbconvert_exporter": "python",
   "pygments_lexer": "ipython3",
   "version": "3.7.0"
  }
 },
 "nbformat": 4,
 "nbformat_minor": 2
}
