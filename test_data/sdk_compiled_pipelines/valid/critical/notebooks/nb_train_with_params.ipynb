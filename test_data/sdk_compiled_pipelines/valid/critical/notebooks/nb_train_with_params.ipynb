{
  "cells": [
    {
      "cell_type": "code",
      "execution_count": null,
      "metadata": {
        "tags": [
          "parameters"
        ]
      },
      "outputs": [],
      "source": [
        "cleaned_text = 'my cleaned text'\n"
      ]
    },
    {
      "cell_type": "code",
      "execution_count": null,
      "metadata": {},
      "outputs": [],
      "source": [
        "import os\n",
        "os.makedirs('/tmp/kfp_nb_outputs', exist_ok=True)\n",
        "print(\"Writing to /tmp/kfp_nb_outputs/model.txt\")\n",
        "with open('/tmp/kfp_nb_outputs/model.txt', 'w', encoding='utf-8') as f:\n",
        "    f.write(cleaned_text.upper())\n"
      ]
    },
    {
      "cell_type": "raw",
      "metadata": {
        "vscode": {
          "languageId": "raw"
        }
      },
      "source": [
        "\n"
      ]
    }
  ],
  "metadata": {
    "language_info": {
      "name": "python"
    }
  },
  "nbformat": 4,
  "nbformat_minor": 2
}
