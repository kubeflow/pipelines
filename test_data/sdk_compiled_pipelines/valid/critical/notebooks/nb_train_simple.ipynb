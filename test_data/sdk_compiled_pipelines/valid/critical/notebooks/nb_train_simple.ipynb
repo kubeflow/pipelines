{
  "cells": [
    {
      "cell_type": "code",
      "execution_count": null,
      "metadata": {},
      "outputs": [],
      "source": [
        "text2 = 'default2'"
      ]
    },
    {
      "cell_type": "code",
      "execution_count": null,
      "metadata": {},
      "outputs": [],
      "source": [
        "import os\n",
        "os.makedirs('/tmp/kfp_nb_outputs', exist_ok=True)\n",
        "print(\"Writing to /tmp/kfp_nb_outputs/log.txt\")\n",
        "with open('/tmp/kfp_nb_outputs/log.txt', 'w', encoding='utf-8') as f:\n",
        "    f.write(text + \" \" + text2)\n"
      ]
    }
  ],
  "metadata": {
    "language_info": {
      "name": "python"
    }
  },
  "nbformat": 4,
  "nbformat_minor": 2
}
