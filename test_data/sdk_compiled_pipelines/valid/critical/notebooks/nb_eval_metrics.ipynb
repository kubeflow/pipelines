{
  "cells": [
    {
      "cell_type": "code",
      "execution_count": null,
      "metadata": {
        "tags": [
          "parameters"
        ]
      },
      "outputs": [],
      "source": [
        "model_text = ''\n"
      ]
    },
    {
      "cell_type": "code",
      "execution_count": null,
      "metadata": {},
      "outputs": [],
      "source": [
        "import os, json\n",
        "os.makedirs('/tmp/kfp_nb_outputs', exist_ok=True)\n",
        "metrics = {'score': float(len(model_text))}\n",
        "print(\"Got score \", metrics[\"score\"])\n",
        "with open('/tmp/kfp_nb_outputs/metrics.json', 'w', encoding='utf-8') as f:\n",
        "    json.dump(metrics, f)\n"
      ]
    }
  ],
  "metadata": {
    "language_info": {
      "name": "python"
    }
  },
  "nbformat": 4,
  "nbformat_minor": 2
}
