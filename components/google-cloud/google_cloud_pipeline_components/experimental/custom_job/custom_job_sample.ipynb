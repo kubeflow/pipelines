{
 "cells": [
  {
   "cell_type": "code",
   "execution_count": null,
   "source": [
    "# Copyright 2021 Google LLC\n",
    "#\n",
    "# Licensed under the Apache License, Version 2.0 (the \"License\");\n",
    "# you may not use this file except in compliance with the License.\n",
    "# You may obtain a copy of the License at\n",
    "#\n",
    "#     https://www.apache.org/licenses/LICENSE-2.0\n",
    "#\n",
    "# Unless required by applicable law or agreed to in writing, software\n",
    "# distributed under the License is distributed on an \"AS IS\" BASIS,\n",
    "# WITHOUT WARRANTIES OR CONDITIONS OF ANY KIND, either express or implied.\n",
    "# See the License for the specific language governing permissions and\n",
    "# limitations under the License."
   ],
   "outputs": [],
   "metadata": {}
  },
  {
   "cell_type": "markdown",
   "source": [
    "# Vertex Pipelines: Vertex AI Custom Job training wrapper\n",
    "\n",
    "## Overview\n",
    "This notebook shows how to use the `run_as_vertex_ai_custom_job` wrapper to convert any component to run it as a Vertex AI custom job. This allows users to take advantage of the vertical and horizontal scaling for computation heavy tasks on Vertex AI. This requires that the underlying component has built in support distributed computation. To learn more about Vertex AI Custom Job see [Vertex AI Custom Training](https://cloud.google.com/vertex-ai/docs/training/custom-training). \n",
    "\n",
    "\n",
    "## Vertex AI Custom Job Wrapper Interface\n",
    "\n",
    "`google_cloud_pipeline_components.experimental.custom_job.custom_job`\n",
    "\n",
    "```python\n",
    "def run_as_vertex_ai_custom_job(\n",
    "    component_spec: Callable,\n",
    "    display_name: Optional[str] = None,\n",
    "    replica_count: Optional[int] = None,\n",
    "    machine_type: Optional[str] = None,\n",
    "    accelerator_type: Optional[str] = None,\n",
    "    accelerator_count: Optional[int] = None,\n",
    "    boot_disk_type: Optional[str] = None,\n",
    "    boot_disk_size_gb: Optional[int] = None,\n",
    "    timeout: Optional[str] = None,\n",
    "    restart_job_on_worker_restart: Optional[bool] = None,\n",
    "    service_account: Optional[str] = None,\n",
    "    network: Optional[str] = None,\n",
    "    worker_pool_specs: Optional[List[Mapping[str, Any]]] = None,\n",
    ") -> Callable:\n",
    "```\n",
    "\n",
    "<dt><b>Args:</b></dt><dd><p>component_spec: The component spec (factory function) to run as aiplatform custom job.\n",
    "display_name: Optional. The name of the custom job. If not provided the</p>\n",
    "<div><p>component_spec.name will be used instead.</p>\n",
    "</div>\n",
    "<dl class=\"simple\">\n",
    "<dt>replica_count: Optional. The number of replicas to be split between master</dt><dd><p>workerPoolSpec and worker workerPoolSpec. (master always has 1 replica).</p>\n",
    "</dd>\n",
    "<dt>machine_type: Optional. The type of the machine to run the custom job. The</dt><dd><p>default value is “n1-standard-4”.</p>\n",
    "</dd>\n",
    "<dt>accelerator_type: Optional. The type of accelerator(s) that may be attached</dt><dd><p>to the machine as per accelerator_count. Optional.</p>\n",
    "</dd>\n",
    "<dt>accelerator_count: Optional. The number of accelerators to attach to the</dt><dd><p>machine.</p>\n",
    "</dd>\n",
    "<dt>boot_disk_type: Optional. Type of the boot disk (default is “pd-ssd”). Valid</dt><dd><dl class=\"simple\">\n",
    "<dt>values: “pd-ssd” (Persistent Disk Solid State Drive) or “pd-standard”</dt><dd><p>(Persistent Disk Hard Disk Drive).</p>\n",
    "</dd>\n",
    "</dl>\n",
    "</dd>\n",
    "</dl>\n",
    "<p>boot_disk_size_gb: Optional. Size in GB of the boot disk (default is 100GB).\n",
    "timeout: Optional. The maximum job running time. The default is 7 days. A</p>\n",
    "<div><p>duration in seconds with up to nine fractional digits, terminated by ‘s’.\n",
    "Example: “3.5s”</p>\n",
    "</div>\n",
    "<dl class=\"simple\">\n",
    "<dt>restart_job_on_worker_restart: Optional. Restarts the entire CustomJob if a</dt><dd><p>worker gets restarted. This feature can be used by distributed training\n",
    "jobs that are not resilient to workers leaving and joining a job.</p>\n",
    "</dd>\n",
    "<dt>service_account: Optional. Specifies the service account for workload run-as</dt><dd><p>account.</p>\n",
    "</dd>\n",
    "<dt>network: Optional. The full name of the Compute Engine network to which the</dt><dd><p>job should be peered. For example, projects/12345/global/networks/myVPC.</p>\n",
    "</dd>\n",
    "<dt>worker_pool_specs: Optional, worker_pool_specs for distributed training. this</dt><dd><p>will overwite all other cluster configurations. For details, please see:\n",
    "<a class=\"reference external\" href=\"https://cloud.google.com/ai-platform-unified/docs/training/distributed-training\">https://cloud.google.com/ai-platform-unified/docs/training/distributed-training</a></p>\n",
    "</dd>\n",
    "</dl>\n",
    "</dd>\n",
    "<dt><b>Returns:</b></dt><dd><p>A Custom Job component correspoinding to the input component.</p>\n",
    "</dd>\n",
    "</dl>\n",
    "</dd></dl>"
   ],
   "metadata": {}
  },
  {
   "cell_type": "markdown",
   "source": [
    "### Install additional packages"
   ],
   "metadata": {}
  },
  {
   "cell_type": "code",
   "execution_count": null,
   "source": [
    "!pip3 install  -U \"git+https://github.com/kubeflow/pipelines.git#egg=kfp&subdirectory=sdk/python\" -q\n",
    "!pip3 install  -U google-cloud-pipeline-components -q\n",
    "!pip3 install  -U google-cloud-aiplatform -q"
   ],
   "outputs": [],
   "metadata": {}
  },
  {
   "cell_type": "markdown",
   "source": [
    "### Restart the kernel\n",
    "\n",
    "After you install the additional packages, you need to restart the notebook kernel so it can find the packages."
   ],
   "metadata": {}
  },
  {
   "cell_type": "code",
   "execution_count": null,
   "source": [
    "# Automatically restart kernel after installs\n",
    "import IPython\n",
    "\n",
    "app = IPython.Application.instance()\n",
    "app.kernel.do_shutdown(True)"
   ],
   "outputs": [],
   "metadata": {}
  },
  {
   "cell_type": "markdown",
   "source": [
    "## Before you begin\n",
    "### Set your Project ID and Pipeline Root\n"
   ],
   "metadata": {}
  },
  {
   "cell_type": "code",
   "execution_count": null,
   "source": [
    "PROJECT_ID = \"python-docs-samples-tests\"  # @param {type:\"string\"}\n",
    "BUCKET_NAME = \"gs://[your-bucket-name]\"  # @param {type:\"string\"}\n",
    "REGION = \"us-central1\"  # @param {type:\"string\"}\n",
    "PIPELINE_ROOT = \"{}/pipeline_root\".format(BUCKET_NAME)\n",
    "PIPELINE_ROOT"
   ],
   "outputs": [],
   "metadata": {}
  },
  {
   "cell_type": "markdown",
   "source": [
    "### Import libraries and define constants"
   ],
   "metadata": {}
  },
  {
   "cell_type": "code",
   "execution_count": null,
   "source": [
    "import google_cloud_pipeline_components as gcpc\n",
    "from kfp.v2 import components, compiler, dsl"
   ],
   "outputs": [],
   "metadata": {}
  },
  {
   "cell_type": "markdown",
   "source": [
    "## Create a component, convert it to a custom job to use in a pipeline.\n",
    "Create a simple component that takes an input and produces an output"
   ],
   "metadata": {}
  },
  {
   "cell_type": "code",
   "execution_count": null,
   "source": [
    "producer_op = components.load_component_from_text(\n",
    "    \"\"\"\n",
    "name: Producer\n",
    "inputs:\n",
    "- {name: input_text, type: String, description: 'Represents an input parameter.'}\n",
    "outputs:\n",
    "- {name: output_value, type: String, description: 'Represents an output paramter.'}\n",
    "implementation:\n",
    "  container:\n",
    "    image: google/cloud-sdk:latest\n",
    "    command:\n",
    "    - sh\n",
    "    - -c\n",
    "    - |\n",
    "      set -e -x\n",
    "      echo \"$0, this is an output parameter\" | gsutil cp - \"$1\"\n",
    "    - {inputValue: input_text}\n",
    "    - {outputPath: output_value}\n",
    "\"\"\"\n",
    ")"
   ],
   "outputs": [],
   "metadata": {}
  },
  {
   "cell_type": "markdown",
   "source": [
    "Convert the component to a Vertex AI Custom Job"
   ],
   "metadata": {}
  },
  {
   "cell_type": "code",
   "execution_count": null,
   "source": [
    "# This is a temporary work around for v0.1.4 to point to the correct base image for custom_job\n",
    "gcpc.experimental.custom_job.custom_job._DEFAULT_CUSTOM_JOB_CONTAINER_IMAGE = 'gcr.io/ml-pipeline/gcp-launcher:0.1.4'\n",
    "\n",
    "custom_job_producer_op= gcpc.experimental.custom_job.custom_job.run_as_vertex_ai_custom_job(producer_op)"
   ],
   "outputs": [],
   "metadata": {}
  },
  {
   "cell_type": "markdown",
   "source": [
    "Define the pipeline:"
   ],
   "metadata": {}
  },
  {
   "cell_type": "code",
   "execution_count": null,
   "source": [
    "@dsl.pipeline(pipeline_root='', name='custom-job-sample-pipeline')\n",
    "def pipeline(text: str = 'message'):\n",
    "    custom_producer_task = custom_job_producer_op(input_text=text, gcp_project=PROJECT_ID ,gcp_region=REGION)"
   ],
   "outputs": [],
   "metadata": {}
  },
  {
   "cell_type": "markdown",
   "source": [
    "## Compile and run the pipeline\n",
    "\n",
    "Compile the pipeline:"
   ],
   "metadata": {}
  },
  {
   "cell_type": "code",
   "execution_count": null,
   "source": [
    "from kfp.v2 import compiler\n",
    "\n",
    "compiler.Compiler().compile(\n",
    "    pipeline_func=pipeline, package_path=\"simple_custom_job_spec.json\"\n",
    ")"
   ],
   "outputs": [],
   "metadata": {}
  },
  {
   "cell_type": "markdown",
   "source": [
    "The pipeline compilation generates the `simple_custom_job_spec.json` job spec file.\n",
    "\n",
    "Next, instantiate an API client object and run the defined pipeline like this: "
   ],
   "metadata": {}
  },
  {
   "cell_type": "code",
   "execution_count": null,
   "source": [
    "from kfp.v2.google.client import AIPlatformClient\n",
    "\n",
    "api_client = AIPlatformClient(project_id=PROJECT_ID, region=REGION)\n",
    "\n",
    "response = api_client.create_run_from_job_spec(\n",
    "          job_spec_path='simple_custom_job_spec.json',\n",
    "          pipeline_root=PIPELINE_ROOT,  enable_caching=False\n",
    "          )"
   ],
   "outputs": [],
   "metadata": {}
  },
  {
   "cell_type": "markdown",
   "source": [
    "## Cleaning up\n",
    "\n",
    "To clean up all Google Cloud resources used in this project, you can [delete the Google Cloud\n",
    "project](https://cloud.google.com/resource-manager/docs/creating-managing-projects#shutting_down_projects) you used for the tutorial.\n",
    "\n",
    "Otherwise, you can delete the individual resources you created in this tutorial:\n",
    "- Delete Cloud Storage objects that were created.  Uncomment and run the command in the cell below **only if you are not using the `PIPELINE_ROOT` path for any other purpose**.\n",
    "- Delete your deployed model: first, undeploy it from its *endpoint*, then delete the model and endpoint.\n"
   ],
   "metadata": {}
  },
  {
   "cell_type": "code",
   "execution_count": null,
   "source": [
    "# Warning: this command will delete ALL Cloud Storage objects under the PIPELINE_ROOT path.\n",
    "# ! gsutil -m rm -r $PIPELINE_ROOT"
   ],
   "outputs": [],
   "metadata": {}
  }
 ],
 "metadata": {
  "environment": {
   "name": "common-cpu.m73",
   "type": "gcloud",
   "uri": "gcr.io/deeplearning-platform-release/base-cpu:m73"
  },
  "kernelspec": {
   "display_name": "Python 3",
   "language": "python",
   "name": "python3"
  },
  "language_info": {
   "codemirror_mode": {
    "name": "ipython",
    "version": 3
   },
   "file_extension": ".py",
   "mimetype": "text/x-python",
   "name": "python",
   "nbconvert_exporter": "python",
   "pygments_lexer": "ipython3",
   "version": "3.7.10"
  }
 },
 "nbformat": 4,
 "nbformat_minor": 5
}