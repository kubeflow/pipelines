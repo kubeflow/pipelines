{
 "cells": [
  {
   "cell_type": "code",
   "execution_count": 1,
   "id": "capital-imagination",
   "metadata": {
    "tags": [
     "parameters"
    ]
   },
   "outputs": [],
   "source": [
    "# This cell has a `parameters` tag so you can use\n",
    "# the following variables as execution parameters\n",
    "PROJECT_ID = \"\"\n",
    "EXECUTION_ID = \"\""
   ]
  },
  {
   "cell_type": "code",
   "execution_count": null,
   "id": "tracked-calcium",
   "metadata": {},
   "outputs": [],
   "source": [
    "bucket_name = f\"a_bucket_in_{PROJECT_ID}_by_{EXECUTION_ID}\""
   ]
  },
  {
   "cell_type": "code",
   "execution_count": null,
   "id": "complicated-sequence",
   "metadata": {},
   "outputs": [],
   "source": [
    "!gsutil mb -p \"{PROJECT_ID}\" \"gs://{bucket_name}\""
   ]
  }
 ],
 "metadata": {
  "environment": {
   "name": "common-cpu.m69",
   "type": "gcloud",
   "uri": "gcr.io/deeplearning-platform-release/base-cpu:m69"
  },
  "kernelspec": {
   "display_name": "Python 3",
   "language": "python",
   "name": "python3"
  },
  "language_info": {
   "codemirror_mode": {
    "name": "ipython",
    "version": 3
   },
   "file_extension": ".py",
   "mimetype": "text/x-python",
   "name": "python",
   "nbconvert_exporter": "python",
   "pygments_lexer": "ipython3",
   "version": "3.8.8"
  }
 },
 "nbformat": 4,
 "nbformat_minor": 5
}
