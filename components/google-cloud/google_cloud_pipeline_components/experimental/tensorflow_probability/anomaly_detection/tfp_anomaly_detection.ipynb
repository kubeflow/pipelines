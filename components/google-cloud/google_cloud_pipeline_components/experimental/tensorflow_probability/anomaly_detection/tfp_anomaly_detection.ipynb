{
  "cells": [
    {
      "cell_type": "code",
      "execution_count": null,
      "metadata": {
        "id": "iXDk02sFYgJy"
      },
      "outputs": [],
      "source": [
        "# Copyright 2021 Google LLC\n",
        "#\n",
        "# Licensed under the Apache License, Version 2.0 (the \"License\");\n",
        "# you may not use this file except in compliance with the License.\n",
        "# You may obtain a copy of the License at\n",
        "#\n",
        "#     https://www.apache.org/licenses/LICENSE-2.0\n",
        "#\n",
        "# Unless required by applicable law or agreed to in writing, software\n",
        "# distributed under the License is distributed on an \"AS IS\" BASIS,\n",
        "# WITHOUT WARRANTIES OR CONDITIONS OF ANY KIND, either express or implied.\n",
        "# See the License for the specific language governing permissions and\n",
        "# limitations under the License."
      ]
    },
    {
      "cell_type": "markdown",
      "metadata": {
        "id": "QZo6Stv1Z2Nf"
      },
      "source": [
        "\u003ctable align=\"left\"\u003e\n",
        "\n",
        "  \u003ctd\u003e\n",
        "    \u003ca href=\"https://colab.research.google.com/github/kubeflow/pipelines/blob/master/components/google-cloud/google_cloud_pipeline_components/experimental/tensorflow_probability/anomaly_detection/tfp_anomaly_detection.ipynb\"\"\u003e\n",
        "      \u003cimg src=\"https://cloud.google.com/ml-engine/images/colab-logo-32px.png\" alt=\"Colab logo\"\u003e Run in Colab\n",
        "    \u003c/a\u003e\n",
        "  \u003c/td\u003e\n",
        "  \u003ctd\u003e\n",
        "    \u003ca href=\"https://github.com/kubeflow/pipelines/blob/master/components/google-cloud/google_cloud_pipeline_components/experimental/tensorflow_probability/anomaly_detection/tfp_anomaly_detection.ipynb\"\u003e\n",
        "      \u003cimg src=\"https://cloud.google.com/ml-engine/images/github-logo-32px.png\" alt=\"GitHub logo\"\u003e\n",
        "      View on GitHub\n",
        "    \u003c/a\u003e\n",
        "  \u003c/td\u003e\n",
        "\u003c/table\u003e"
      ]
    },
    {
      "cell_type": "markdown",
      "metadata": {
        "id": "YRvy0UhwcjOm"
      },
      "source": [
        "# Anomaly Detection with TensorFlow Probability STS on Kubeflow Pipelines"
      ]
    },
    {
      "cell_type": "markdown",
      "metadata": {
        "id": "0oCL7T67aa02"
      },
      "source": [
        "## Overview\n",
        "\n",
        "This notebook demonstrates how to use [TensorFlow Probability](https://www.tensorflow.org/probability) and [Kubeflow Pipelines](https://www.kubeflow.org/docs/components/pipelines/) for anomaly detection in time series data. It uses structural time series (STS), a class of Bayesian statistical models, to decompose a time series into interpretable seasonal and trend components. This algorithm fits an STS model to the time series, generates a forecast of acceptable values for each timestep, and flags any points outside of the forecast as an anomaly. To learn more about STS models, check out this demo on [Structural Time Series Modeling Case Studies](https://www.tensorflow.org/probability/examples/Structural_Time_Series_Modeling_Case_Studies_Atmospheric_CO2_and_Electricity_Demand).\n",
        "\n",
        "This demo is most relevant for those who would like to automatically flag anomalies in time series data and can be used for applications like network monitoring, infrastructure maintenance, and sales tracking.\n",
        "\n",
        "### Dataset\n",
        "\n",
        "{TODO: Replace synthetic data with benchmark}\n",
        "\n",
        "This demo uses the [Numenta Anomaly Benchmark](https://github.com/numenta/NAB), a popular benchmark of time series data with labelled anomalies. More specifically, our demo uses [nyc_taxi.csv](https://github.com/numenta/NAB/blob/d2854d17a3feb9e143b1e9a715c5af67da2c1888/data/realKnownCause/nyc_taxi.csv) which reports the number of NYC taxi passengers over time.\n",
        "\n",
        "### Objective\n",
        "\n",
        "In this notebook, you will learn how to:\n",
        "\n",
        "* Infer the frequency of a time series and regularize it with `tfp.sts.regularize_series`\n",
        "* Infer the the structure of the time series using `tensorflow_probability.python.sts.default_model.build_default_model`\n",
        "* Fit the model with variational inference using `tfp.vi.fit_surrogate_posterior`\n",
        "* Identify anomalies based on the predictive distribution of acceptable values at each timestep\n",
        "* Launch the anomaly detection algorithm on Kubeflow Pipelines\n",
        "\n",
        "### Costs\n",
        "This tutorial uses billable components of Google Cloud:\n",
        "\n",
        "* Vertex AI\n",
        "* Cloud Storage\n",
        "\n",
        "Learn about [Vertex AI\n",
        "pricing](https://cloud.google.com/vertex-ai/pricing) and [Cloud Storage\n",
        "pricing](https://cloud.google.com/storage/pricing), and use the [Pricing\n",
        "Calculator](https://cloud.google.com/products/calculator/)\n",
        "to generate a cost estimate based on your projected usage."
      ]
    },
    {
      "cell_type": "markdown",
      "metadata": {
        "id": "UsKeVhtHbYeU"
      },
      "source": [
        "### Set up your local development environment\n",
        "\n",
        "**If you are using Colab or Google Cloud Notebooks**, your environment already meets\n",
        "all the requirements to run this notebook. You can skip this step.\n",
        "\n",
        "**Otherwise**, make sure your environment meets this notebook's requirements.\n",
        "You need the following:\n",
        "\n",
        "* The Google Cloud SDK\n",
        "* Git\n",
        "* Python 3\n",
        "* virtualenv\n",
        "* Jupyter notebook running in a virtual environment with Python 3\n",
        "\n",
        "The Google Cloud guide to [Setting up a Python development\n",
        "environment](https://cloud.google.com/python/setup) and the [Jupyter\n",
        "installation guide](https://jupyter.org/install) provide detailed instructions\n",
        "for meeting these requirements. The following steps provide a condensed set of\n",
        "instructions:\n",
        "\n",
        "1. [Install and initialize the Cloud SDK.](https://cloud.google.com/sdk/docs/)\n",
        "\n",
        "1. [Install Python 3.](https://cloud.google.com/python/setup#installing_python)\n",
        "\n",
        "1. [Install\n",
        "   virtualenv](https://cloud.google.com/python/setup#installing_and_using_virtualenv)\n",
        "   and create a virtual environment that uses Python 3. Activate the virtual environment.\n",
        "\n",
        "1. To install Jupyter, run `pip3 install jupyter` on the\n",
        "command-line in a terminal shell.\n",
        "\n",
        "1. To launch Jupyter, run `jupyter notebook` on the command-line in a terminal shell.\n",
        "\n",
        "1. Open this notebook in the Jupyter Notebook Dashboard."
      ]
    },
    {
      "cell_type": "markdown",
      "metadata": {
        "id": "i7EUnXsZhAGF"
      },
      "source": [
        "### Install additional packages\n",
        "\n",
        "Install additional package dependencies not installed in your notebook environment."
      ]
    },
    {
      "cell_type": "code",
      "execution_count": null,
      "metadata": {
        "id": "2b4ef9b72d43"
      },
      "outputs": [],
      "source": [
        "import os\n",
        "\n",
        "# The Google Cloud Notebook product has specific requirements\n",
        "IS_GOOGLE_CLOUD_NOTEBOOK = os.path.exists(\"/opt/deeplearning/metadata/env_version\")\n",
        "\n",
        "# Google Cloud Notebook requires dependencies to be installed with '--user'\n",
        "USER_FLAG = \"\"\n",
        "if IS_GOOGLE_CLOUD_NOTEBOOK:\n",
        "    USER_FLAG = \"--user\""
      ]
    },
    {
      "cell_type": "code",
      "execution_count": null,
      "metadata": {
        "id": "8EO5Ar64fidZ"
      },
      "outputs": [],
      "source": [
        "! pip3 install {USER_FLAG} --upgrade kfp\n",
        "! pip3 install {USER_FLAG} --upgrade google-cloud-pipeline-components\n",
        "! pip3 install {USER_FLAG} --upgrade tensorflow\n",
        "! pip3 install {USER_FLAG} --upgrade matplotlib\n",
        "! pip3 install {USER_FLAG} --upgrade numpy\n",
        "! pip3 install {USER_FLAG} --upgrade pandas"
      ]
    },
    {
      "cell_type": "markdown",
      "metadata": {
        "id": "wIibh1qxkc_G"
      },
      "source": [
        "### Restart the kernel\n",
        "\n",
        "After you install the additional packages, you need to restart the notebook kernel so it can find the packages."
      ]
    },
    {
      "cell_type": "code",
      "execution_count": null,
      "metadata": {
        "id": "zGbkBMWPPvPY"
      },
      "outputs": [],
      "source": [
        "# Automatically restart kernel after installs\n",
        "import os\n",
        "\n",
        "if not os.getenv(\"IS_TESTING\"):\n",
        "    # Automatically restart kernel after installs\n",
        "    import IPython\n",
        "\n",
        "    app = IPython.Application.instance()\n",
        "    app.kernel.do_shutdown(True)"
      ]
    },
    {
      "cell_type": "markdown",
      "metadata": {
        "id": "No37uLsjk1UN"
      },
      "source": [
        "## Before you begin\n",
        "\n",
        "### Set up your Google Cloud project\n",
        "\n",
        "**The following steps are required, regardless of your notebook environment.**\n",
        "\n",
        "1. [Select or create a Google Cloud project](https://console.cloud.google.com/cloud-resource-manager). When you first create an account, you get a $300 free credit towards your compute/storage costs.\n",
        "\n",
        "1. [Make sure that billing is enabled for your project](https://cloud.google.com/billing/docs/how-to/modify-project).\n",
        "\n",
        "1. [Enable the Vertex AI API, Cloud Build API, Cloud Storage API, and Container Registry API](https://console.cloud.google.com/flows/enableapi?apiid=aiplatform.googleapis.com,cloudbuild.googleapis.com,storage.googleapis.com,containerregistry.googleapis.com).\n",
        "\n",
        "1. If you are running this notebook locally, you will need to install the [Cloud SDK](https://cloud.google.com/sdk).\n",
        "\n",
        "1. Enter your project ID in the cell below. Then run the cell to make sure the\n",
        "Cloud SDK uses the right project for all the commands in this notebook.\n",
        "\n",
        "**Note**: Jupyter runs lines prefixed with `!` as shell commands, and it interpolates Python variables prefixed with `$` into these commands."
      ]
    },
    {
      "cell_type": "markdown",
      "metadata": {
        "id": "ff394ff4"
      },
      "source": [
        "#### Set your project ID\n",
        "\n",
        "**If you don't know your project ID**, you may be able to get your project ID using `gcloud`."
      ]
    },
    {
      "cell_type": "code",
      "execution_count": null,
      "metadata": {
        "colab": {
          "base_uri": "https://localhost:8080/"
        },
        "collapsed": true,
        "id": "1988b81c",
        "jupyter": {
          "outputs_hidden": true
        },
        "outputId": "6a6488f6-6883-4246-a197-b3c5816dab0d"
      },
      "outputs": [
        {
          "name": "stdout",
          "output_type": "stream",
          "text": [
            "Project ID:  \n"
          ]
        }
      ],
      "source": [
        "import os\n",
        "\n",
        "# Get your Google Cloud project ID from gcloud\n",
        "if not os.getenv(\"IS_TESTING\"):\n",
        "  shell_output=!gcloud config list --format 'value(core.project)' 2\u003e/dev/null\n",
        "  PROJECT_ID = shell_output[0]\n",
        "  print(\"Project ID: \", PROJECT_ID)"
      ]
    },
    {
      "cell_type": "markdown",
      "metadata": {
        "id": "5adca8fc"
      },
      "source": [
        "Otherwise, set your project ID here."
      ]
    },
    {
      "cell_type": "code",
      "execution_count": null,
      "metadata": {
        "collapsed": true,
        "id": "939b4566",
        "jupyter": {
          "outputs_hidden": true
        }
      },
      "outputs": [],
      "source": [
        "if PROJECT_ID == \"\" or PROJECT_ID is None:\n",
        "  PROJECT_ID = \"[your-project-id]\"  # @param {type:\"string\"}"
      ]
    },
    {
      "cell_type": "code",
      "execution_count": null,
      "metadata": {
        "colab": {
          "base_uri": "https://localhost:8080/"
        },
        "id": "ypoM_48NJCuU",
        "outputId": "82b0e9ed-0728-4ce8-dcb8-8acfac3ca6e5"
      },
      "outputs": [
        {
          "name": "stdout",
          "output_type": "stream",
          "text": [
            "Updated property [core/project].\n"
          ]
        }
      ],
      "source": [
        "!gcloud config set project {PROJECT_ID}"
      ]
    },
    {
      "cell_type": "markdown",
      "metadata": {
        "id": "2df8c231"
      },
      "source": [
        "#### Timestamp\n",
        "\n",
        "If you are in a live tutorial session, you might be using a shared test account or project. To avoid name collisions between users on resources created, you create a timestamp for each instance session, and append it onto the name of resources you create in this tutorial."
      ]
    },
    {
      "cell_type": "code",
      "execution_count": null,
      "metadata": {
        "collapsed": true,
        "id": "84ba4ab1",
        "jupyter": {
          "outputs_hidden": true
        }
      },
      "outputs": [],
      "source": [
        "from datetime import datetime\n",
        "\n",
        "TIMESTAMP = datetime.now().strftime(\"%Y%m%d%H%M%S\")"
      ]
    },
    {
      "cell_type": "markdown",
      "metadata": {
        "id": "dr--iN2kAylZ"
      },
      "source": [
        "### Authenticate your Google Cloud account\n",
        "\n",
        "**If you are using Google Cloud Notebooks**, your environment is already\n",
        "authenticated. Skip this step."
      ]
    },
    {
      "cell_type": "markdown",
      "metadata": {
        "id": "sBCra4QMA2wR"
      },
      "source": [
        "**If you are using Colab**, run the cell below and follow the instructions\n",
        "when prompted to authenticate your account via oAuth.\n",
        "\n",
        "**Otherwise**, follow these steps:\n",
        "\n",
        "1. In the Cloud Console, go to the [**Create service account key**\n",
        "   page](https://console.cloud.google.com/apis/credentials/serviceaccountkey).\n",
        "\n",
        "2. Click **Create service account**.\n",
        "\n",
        "3. In the **Service account name** field, enter a name, and\n",
        "   click **Create**.\n",
        "\n",
        "4. In the **Grant this service account access to project** section, click the **Role** drop-down list. Type \"Vertex AI\"\n",
        "into the filter box, and select\n",
        "   **Vertex AI Administrator**. Type \"Storage Object Admin\" into the filter box, and select **Storage Object Admin**.\n",
        "\n",
        "5. Click *Create*. A JSON file that contains your key downloads to your\n",
        "local environment.\n",
        "\n",
        "6. Enter the path to your service account key as the\n",
        "`GOOGLE_APPLICATION_CREDENTIALS` variable in the cell below and run the cell."
      ]
    },
    {
      "cell_type": "code",
      "execution_count": null,
      "metadata": {
        "id": "PyQmSRbKA8r-"
      },
      "outputs": [],
      "source": [
        "import os\n",
        "import sys\n",
        "\n",
        "# If you are running this notebook in Colab, run this cell and follow the\n",
        "# instructions to authenticate your GCP account. This provides access to your\n",
        "# Cloud Storage bucket and lets you submit training jobs and prediction\n",
        "# requests.\n",
        "\n",
        "# The Google Cloud Notebook product has specific requirements\n",
        "IS_GOOGLE_CLOUD_NOTEBOOK = os.path.exists(\"/opt/deeplearning/metadata/env_version\")\n",
        "\n",
        "# If on Google Cloud Notebooks, then don't execute this code\n",
        "if not IS_GOOGLE_CLOUD_NOTEBOOK:\n",
        "    if \"google.colab\" in sys.modules:\n",
        "        from google.colab import auth as google_auth\n",
        "\n",
        "        google_auth.authenticate_user()\n",
        "\n",
        "    # If you are running this notebook locally, replace the string below with the\n",
        "    # path to your service account key and run this cell to authenticate your GCP\n",
        "    # account.\n",
        "    elif not os.getenv(\"IS_TESTING\"):\n",
        "        %env GOOGLE_APPLICATION_CREDENTIALS ''"
      ]
    },
    {
      "cell_type": "markdown",
      "metadata": {
        "id": "zgPO1eR3CYjk"
      },
      "source": [
        "### Create a Cloud Storage bucket\n",
        "\n",
        "**The following steps are required, regardless of your notebook environment.**\n",
        "\n",
        "When you submit a training job, Vertex AI saves all resources to the given GCS bucket.\n",
        "\n",
        "We will also use the same bucket to download and host the input data \n",
        "\n",
        "Set the name of your Cloud Storage bucket below. It must be unique across all\n",
        "Cloud Storage buckets.\n",
        "\n",
        "You may also change the `REGION` variable, which is used for operations\n",
        "throughout the rest of this notebook. Make sure to [choose a region where Vertex AI services are\n",
        "available](https://cloud.google.com/vertex-ai/docs/general/locations#available_regions). You may not use a Multi-Regional Storage bucket for training with Vertex AI."
      ]
    },
    {
      "cell_type": "code",
      "execution_count": null,
      "metadata": {
        "id": "MzGDU7TWdts_"
      },
      "outputs": [],
      "source": [
        "BUCKET_NAME = \"gs://[your-bucket-name]\"  # @param {type:\"string\"}\n",
        "REGION = \"[your-region]\"  # @param {type:\"string\"}"
      ]
    },
    {
      "cell_type": "code",
      "execution_count": null,
      "metadata": {
        "id": "cf221059d072"
      },
      "outputs": [],
      "source": [
        "if BUCKET_NAME == \"\" or BUCKET_NAME is None or BUCKET_NAME == \"gs://[your-bucket-name]\":\n",
        "    BUCKET_NAME = \"gs://\" + PROJECT_ID + \"aip-\" + TIMESTAMP"
      ]
    },
    {
      "cell_type": "markdown",
      "metadata": {
        "id": "-EcIXiGsCePi"
      },
      "source": [
        "**Only if your bucket doesn't already exist**: Run the following cell to create your Cloud Storage bucket."
      ]
    },
    {
      "cell_type": "code",
      "execution_count": null,
      "metadata": {
        "id": "NIq7R4HZCfIc"
      },
      "outputs": [],
      "source": [
        "! gsutil mb -l $REGION $BUCKET_NAME"
      ]
    },
    {
      "cell_type": "markdown",
      "metadata": {
        "id": "ucvCsknMCims"
      },
      "source": [
        "Finally, validate access to your Cloud Storage bucket by examining its contents:"
      ]
    },
    {
      "cell_type": "code",
      "execution_count": null,
      "metadata": {
        "id": "vhOb7YnwClBb"
      },
      "outputs": [],
      "source": [
        "! gsutil ls -al $BUCKET_NAME"
      ]
    },
    {
      "cell_type": "markdown",
      "metadata": {
        "id": "h01b41bGpu6l"
      },
      "source": [
        "### Import libraries and define constants"
      ]
    },
    {
      "cell_type": "code",
      "execution_count": null,
      "metadata": {
        "id": "4NUcY9w0pidh"
      },
      "outputs": [],
      "source": [
        "PIPELINE_NAME = '{0}-{1}'.format('tfp-anomaly-detection', TIMESTAMP)\n",
        "PIPELINE_ROOT = '{0}/{1}'.format(BUCKET_NAME, PIPELINE_NAME)"
      ]
    },
    {
      "cell_type": "code",
      "execution_count": null,
      "metadata": {
        "id": "6MsrEnjUJMDB"
      },
      "outputs": [],
      "source": [
        "from typing import Callable, Optional, Mapping, Any\n",
        "\n",
        "import kfp\n",
        "from kfp.v2 import compiler\n",
        "from kfp.v2 import dsl\n",
        "from kfp.v2.google.client import AIPlatformClient\n",
        "from kfp.v2.dsl import Dataset"
      ]
    },
    {
      "cell_type": "markdown",
      "metadata": {
        "id": "8aSrF6n1noLh"
      },
      "source": [
        "### Define the anomaly detection component"
      ]
    },
    {
      "cell_type": "code",
      "execution_count": null,
      "metadata": {
        "id": "ZeMp71LgJYMF"
      },
      "outputs": [],
      "source": [
        "train_op = kfp.components.load_component_from_url('https://raw.githubusercontent.com/kubeflow/pipelines/master/components/google-cloud/google_cloud_pipeline_components/experimental/tensorflow_probability/anomaly_detection/component.yaml')"
      ]
    },
    {
      "cell_type": "markdown",
      "metadata": {
        "id": "qFFIz_X0n7p2"
      },
      "source": [
        "### Define the pipeline"
      ]
    },
    {
      "cell_type": "code",
      "execution_count": null,
      "metadata": {
        "id": "s1vqx-VGJrzT"
      },
      "outputs": [],
      "source": [
        "@dsl.pipeline(\n",
        "    pipeline_root=PIPELINE_ROOT, name=PIPELINE_NAME)\n",
        "def pipeline(input_url: str) -\u003e None:\n",
        "  \"\"\"\n",
        "      Train model and return detected anomalies.\n",
        "  \"\"\"\n",
        "  input_task = kfp.dsl.importer(\n",
        "        artifact_uri=input_url,\n",
        "        artifact_class=Dataset)\n",
        "  train_task = train_op(input_dataset=input_task.output).set_memory_limit('50G')"
      ]
    },
    {
      "cell_type": "code",
      "execution_count": null,
      "metadata": {
        "id": "dpZB1t1CJJCT"
      },
      "outputs": [],
      "source": [
        "def run_pipeline(pipeline: Callable,\n",
        "                 parameter_values: Optional[Mapping[str, Any]] = {},\n",
        "                 enable_caching: bool = False) -\u003e None:\n",
        "  \"\"\"Runs a given pipeline function using Kubeflow Pipelines.\n",
        "\n",
        "  Args:\n",
        "   pipeline: The function to run.\n",
        "   parameter_values: Parameters passed to the pipeline function when run.\n",
        "   enable_caching: Whether to used cached results from previous runs.\n",
        "  \"\"\"\n",
        "  compiler.Compiler().compile(\n",
        "    pipeline_func=pipeline,\n",
        "    package_path='{}_pipeline.json'.format(PIPELINE_NAME))\n",
        "\n",
        "  api_client = AIPlatformClient(\n",
        "    project_id=PROJECT_ID,\n",
        "    region=REGION,\n",
        "  )\n",
        "\n",
        "  _ = api_client.create_run_from_job_spec(\n",
        "    job_spec_path='{}_pipeline.json'.format(PIPELINE_NAME),\n",
        "    pipeline_root=PIPELINE_ROOT,\n",
        "    parameter_values=parameter_values,\n",
        "    enable_caching=enable_caching)"
      ]
    },
    {
      "cell_type": "markdown",
      "metadata": {
        "id": "7BO65SDC8qMt"
      },
      "source": [
        "### Download the data"
      ]
    },
    {
      "cell_type": "code",
      "execution_count": null,
      "metadata": {
        "id": "4VWXRyy-8pE8"
      },
      "outputs": [],
      "source": [
        "import os\n",
        "\n",
        "# TODO: Do an efficient check for if files exist in GCS\n",
        "NAB_DATA_BLOB = '{0}/NAB'.format(BUCKET_NAME)\n",
        "if not os.path.exists('content/NAB'):\n",
        "  !git clone https://github.com/numenta/NAB\n",
        "!gsutil cp -r NAB/data $NAB_DATA_BLOB"
      ]
    },
    {
      "cell_type": "code",
      "execution_count": null,
      "metadata": {
        "id": "I0qjQy908uQb"
      },
      "outputs": [],
      "source": [
        "import tensorflow as tf\n",
        "\n",
        "chosen_task = 'nyc_taxi.csv'\n",
        "nab_files = tf.io.gfile.glob('{0}/*/*.csv'.format(NAB_DATA_BLOB))\n",
        "chosen_task_file = [file for file in nab_files if chosen_task in file][0]\n",
        "print('Running the pipeline on {0}'.format(chosen_task))"
      ]
    },
    {
      "cell_type": "code",
      "execution_count": null,
      "metadata": {
        "id": "BLwijes3q1Qf"
      },
      "outputs": [],
      "source": [
        "parameter_values = {\n",
        "  'input_url': chosen_task_file\n",
        "}\n",
        "run_pipeline(pipeline, parameter_values=parameter_values)"
      ]
    },
    {
      "cell_type": "markdown",
      "metadata": {
        "id": "JittvMUhDYgO"
      },
      "source": [
        "### Visualize the results"
      ]
    },
    {
      "cell_type": "code",
      "execution_count": null,
      "metadata": {
        "id": "pzvNg8qeDU0p"
      },
      "outputs": [],
      "source": [
        "# Copy output from pipeline to download locally in Colab\n",
        "output_file = '[your-pipeline-output]' # @param {type:'string'}\n",
        "!gsutil cp $output_file .\n",
        "!wget https://raw.githubusercontent.com/numenta/NAB/master/labels/combined_labels.json"
      ]
    },
    {
      "cell_type": "code",
      "execution_count": null,
      "metadata": {
        "id": "vNKFv7fwDdsU"
      },
      "outputs": [],
      "source": [
        "from matplotlib import pylab as plt\n",
        "from matplotlib.lines import Line2D\n",
        "import pandas as pd\n",
        "import numpy as np\n",
        "import json"
      ]
    },
    {
      "cell_type": "code",
      "execution_count": null,
      "metadata": {
        "id": "MsiYGrpFDeMS"
      },
      "outputs": [],
      "source": [
        "def plot_predictions(predictions: pd.DataFrame) -\u003e None:\n",
        "  \"\"\"\n",
        "    Plots the time series, forecast, detected anomalies, and residuals.\n",
        "\n",
        "    Args:\n",
        "      predictions: The output of the anomaly detection algorithm.\n",
        "  \"\"\"\n",
        "  timestamp = pd.to_datetime(predictions['timestamp'], format='%Y-%m-%d')\n",
        "  value = np.array(predictions['value'])\n",
        "  lower_limit = np.array(predictions['lower_limit'])\n",
        "  upper_limit = np.array(predictions['upper_limit'])\n",
        "  mean = np.array(predictions['mean'])\n",
        "  anomalies = np.array(predictions['label']).nonzero()[0]\n",
        "  targets = []\n",
        "  if 'target' in predictions:\n",
        "    targets = np.array(predictions['target']).nonzero()[0]\n",
        "\n",
        "  fig = plt.figure(figsize=(10, 5), constrained_layout=True)\n",
        "  spec = fig.add_gridspec(ncols=1, nrows=2, height_ratios=[2., 1.])\n",
        "  series_ax = fig.add_subplot(spec[0, 0])\n",
        "  residuals_ax = fig.add_subplot(spec[1, 0], sharex=series_ax)\n",
        "\n",
        "  # Plot anomalies on series_ax\n",
        "  series_ax.plot(\n",
        "      timestamp,\n",
        "      value,\n",
        "      color='black',\n",
        "      alpha=0.6)\n",
        "  series_ax.fill_between(\n",
        "      timestamp,\n",
        "      lower_limit,\n",
        "      upper_limit,\n",
        "      color='tab:blue',\n",
        "      alpha=0.3)\n",
        "\n",
        "  for anomaly_idx in anomalies:\n",
        "    x = timestamp[anomaly_idx]\n",
        "    y = value[anomaly_idx]\n",
        "    series_ax.scatter(x, y, s=100, alpha=0.4, c='red')\n",
        "  \n",
        "  for target_idx in targets:\n",
        "    x = timestamp[target_idx]\n",
        "    y = value[target_idx]\n",
        "    series_ax.scatter(x, y, s=100, alpha=0.4, c='green')\n",
        "    series_ax.annotate(x, (x, y))\n",
        "\n",
        "  # Plot residuals on residuals_ax\n",
        "  time_delta = timestamp[1] - timestamp[0]\n",
        "  residuals_ax.bar(\n",
        "      timestamp,\n",
        "      height=upper_limit - lower_limit,\n",
        "      bottom=lower_limit - mean,\n",
        "      width=time_delta,\n",
        "      align='center',\n",
        "      color='tab:blue',\n",
        "      alpha=0.3)\n",
        "  residuals_ax.bar(\n",
        "      timestamp,\n",
        "      width=time_delta,\n",
        "      height=value - mean,\n",
        "      align='center',\n",
        "      color='black',\n",
        "      alpha=0.6)\n",
        "\n",
        "  # Set up grid styling\n",
        "  series_ax.set_ylabel('Original series')\n",
        "  residuals_ax.set_ylabel('Residuals')\n",
        "  series_ax.grid(True, color='whitesmoke')\n",
        "  residuals_ax.grid(True, color='whitesmoke')\n",
        "  series_ax.set_axisbelow(True)\n",
        "  residuals_ax.set_axisbelow(True)\n",
        "\n",
        "  # Add title and legend\n",
        "  series_ax.set_title('TFP STS model forecast, anomalies, and residuals for {0}'.format(chosen_task))\n",
        "  create_legend_label = lambda label, color: Line2D([0], [0], marker='o', color='w', label=label, markerfacecolor=color, markersize=10)\n",
        "  legend_elements = [create_legend_label(label, color) for label, color in [('predicted anomaly', 'red'), ('target', 'green')]]\n",
        "  series_ax.legend(handles=legend_elements, loc='lower right')"
      ]
    },
    {
      "cell_type": "code",
      "execution_count": null,
      "metadata": {
        "id": "6uBGVh4rDgc3"
      },
      "outputs": [],
      "source": [
        "predictions = pd.read_csv('/content/output_dataset')\n",
        "targets = json.load(open('/content/combined_labels.json'))"
      ]
    },
    {
      "cell_type": "code",
      "execution_count": null,
      "metadata": {
        "id": "lJXWiWRvDimu"
      },
      "outputs": [],
      "source": [
        "# Add targets to the predictions for plotting\n",
        "chosen_task_targets = set([])\n",
        "for key in targets:\n",
        "  if chosen_task in key:\n",
        "    chosen_task_targets = set(targets[key])\n",
        "    \n",
        "predictions['target'] = predictions.apply(lambda df: df['timestamp'] in chosen_task_targets, axis=1)"
      ]
    },
    {
      "cell_type": "code",
      "execution_count": null,
      "metadata": {
        "id": "im04k2PeDku0"
      },
      "outputs": [],
      "source": [
        "plot_predictions(predictions)"
      ]
    }
  ],
  "metadata": {
    "colab": {
      "collapsed_sections": [],
      "name": "tfp_anomaly_detection.ipynb",
      "provenance": []
    },
    "kernelspec": {
      "display_name": "Python 3",
      "name": "python3"
    },
    "language_info": {
      "name": "python"
    }
  },
  "nbformat": 4,
  "nbformat_minor": 0
}
