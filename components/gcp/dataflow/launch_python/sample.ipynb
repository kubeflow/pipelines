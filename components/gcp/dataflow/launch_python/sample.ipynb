{
 "cells": [
  {
   "cell_type": "markdown",
   "metadata": {},
   "source": [
    "# Dataflow - Launch Python\n",
    "\n",
    "Launch a self-executing beam python file. The input python code will be executed inside the KFP's cluster with Dataflow Runner. Client can optionally provide a requirements file to install additional packages to the container. The code will be executed under python 2.7, which is supported beam SDK.\n",
    "\n",
    "## Input Parameters:\n",
    "Name | Description\n",
    ":--- | :----------\n",
    "python_file_path |  The gcs or local path to the python file to run.\n",
    "project_id |  The ID of the parent project.\n",
    "requirements_file_path |  Optional, the gcs or local path to the pip requirements file.\n",
    "location |  Optional. The regional endpoint to which to direct the request.\n",
    "job_name_prefix |  Optional. The prefix of the genrated job name. If not provided, the method will generated a random name.\n",
    "args |  The list of args to pass to the python file.\n",
    "wait_interval |  Optional wait interval between calls to get job status. Defaults to 30.\n",
    "\n",
    "## Output Parameters:\n",
    "Name | Description\n",
    ":--- | :----------\n",
    "job_id | The id of the created dataflow job."
   ]
  },
  {
   "cell_type": "markdown",
   "metadata": {},
   "source": [
    "## Sample Code\n",
    "\n",
    "Note: the sample code below works in both IPython notebook or python code directly."
   ]
  },
  {
   "cell_type": "markdown",
   "metadata": {},
   "source": [
    "### Set sample parameters"
   ]
  },
  {
   "cell_type": "code",
   "execution_count": null,
   "metadata": {
    "tags": [
     "parameters"
    ]
   },
   "outputs": [],
   "source": [
    "# Required Parameters\n",
    "PROJECT_ID = '<Please put your project ID here>'\n",
    "GCS_WORKING_DIR = 'gs://<Please put your GCS path here>' # No ending slash\n",
    "\n",
    "# Optional Parameters\n",
    "EXPERIMENT_NAME = 'Dataflow - Launch Python'\n",
    "COMPONENT_SPEC_URI = 'https://raw.githubusercontent.com/kubeflow/pipelines/master/components/gcp/dataflow/launch_python/component.yaml'"
   ]
  },
  {
   "cell_type": "markdown",
   "metadata": {},
   "source": [
    "### Install KFP SDK"
   ]
  },
  {
   "cell_type": "code",
   "execution_count": null,
   "metadata": {
    "scrolled": true
   },
   "outputs": [],
   "source": [
    "# Install the SDK (Uncomment the code if the SDK is not installed before)\n",
    "# KFP_PACKAGE = 'https://storage.googleapis.com/ml-pipeline/release/0.1.11/kfp.tar.gz'\n",
    "# !pip3 install $KFP_PACKAGE --upgrade"
   ]
  },
  {
   "cell_type": "markdown",
   "metadata": {},
   "source": [
    "### Load component definitions"
   ]
  },
  {
   "cell_type": "code",
   "execution_count": null,
   "metadata": {},
   "outputs": [],
   "source": [
    "import kfp.components as comp\n",
    "\n",
    "dataflow_python_op = comp.load_component_from_url(COMPONENT_SPEC_URI)\n",
    "display(dataflow_python_op)"
   ]
  },
  {
   "cell_type": "markdown",
   "metadata": {},
   "source": [
    "### Run the component as a single pipeline"
   ]
  },
  {
   "cell_type": "code",
   "execution_count": null,
   "metadata": {},
   "outputs": [],
   "source": [
    "import kfp.dsl as dsl\n",
    "import kfp.gcp as gcp\n",
    "import json\n",
    "@dsl.pipeline(\n",
    "    name='Dataflow launch python pipeline',\n",
    "    description='Dataflow launch python pipeline'\n",
    ")\n",
    "def pipeline():\n",
    "    dataflow_python_op(\n",
    "        python_file_path='gs://ml-pipeline-playground/samples/dataflow/wc/wc.py',\n",
    "        project_id=PROJECT_ID,\n",
    "        requirements_file_path='gs://ml-pipeline-playground/samples/dataflow/wc/requirements.txt',\n",
    "        location='',\n",
    "        job_name_prefix='',\n",
    "        args=json.dumps([\n",
    "            '--output', '{}/wc/wordcount.out'.format(GCS_WORKING_DIR),\n",
    "            '--temp_location', '{}/dataflow/wc/tmp'.format(GCS_WORKING_DIR),\n",
    "            '--staging_location', '{}/dataflow/wc/staging'.format(GCS_WORKING_DIR)\n",
    "        ]),\n",
    "        wait_interval = '30').apply(gcp.use_gcp_secret('user-gcp-sa'))"
   ]
  },
  {
   "cell_type": "markdown",
   "metadata": {},
   "source": [
    "### Compile the pipeline"
   ]
  },
  {
   "cell_type": "code",
   "execution_count": null,
   "metadata": {},
   "outputs": [],
   "source": [
    "pipeline_func = pipeline\n",
    "pipeline_filename = pipeline_func.__name__ + '.pipeline.tar.gz'\n",
    "import kfp.compiler as compiler\n",
    "compiler.Compiler().compile(pipeline_func, pipeline_filename)"
   ]
  },
  {
   "cell_type": "markdown",
   "metadata": {},
   "source": [
    "### Submit the pipeline for execution"
   ]
  },
  {
   "cell_type": "code",
   "execution_count": null,
   "metadata": {},
   "outputs": [],
   "source": [
    "#Specify pipeline argument values\n",
    "arguments = {}\n",
    "\n",
    "#Get or create an experiment and submit a pipeline run\n",
    "import kfp\n",
    "client = kfp.Client()\n",
    "experiment = client.create_experiment(EXPERIMENT_NAME)\n",
    "\n",
    "#Submit a pipeline run\n",
    "run_name = pipeline_func.__name__ + ' run'\n",
    "run_result = client.run_pipeline(experiment.id, run_name, pipeline_filename, arguments)"
   ]
  }
 ],
 "metadata": {
  "kernelspec": {
   "display_name": "Python 3",
   "language": "python",
   "name": "python3"
  },
  "language_info": {
   "codemirror_mode": {
    "name": "ipython",
    "version": 3
   },
   "file_extension": ".py",
   "mimetype": "text/x-python",
   "name": "python",
   "nbconvert_exporter": "python",
   "pygments_lexer": "ipython3",
   "version": "3.6.4"
  }
 },
 "nbformat": 4,
 "nbformat_minor": 2
}
