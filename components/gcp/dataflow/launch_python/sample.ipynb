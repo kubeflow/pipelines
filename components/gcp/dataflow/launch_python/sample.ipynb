{
 "cells": [
  {
   "cell_type": "markdown",
   "metadata": {},
   "source": [
    "# Executing an Apache Beam Python job in Cloud Dataflow\n",
    "A Kubeflow Pipeline component that submits an Apache Beam job (authored in Python) to Cloud Dataflow for execution. The Python Beam code is run with the Cloud Dataflow Runner.\n",
    "\n",
    "## Intended Use\n",
    "Use this component to run a Python Beam code to submit a Dataflow job as a step of a KFP pipeline. The component will wait until the job finishes.\n",
    "\n",
    "## Runtime arguments\n",
    "Name | Description | Type | Optional | Default\n",
    ":--- | :---------- | :--- | :------- | :------\n",
    "python_file_path |  The Cloud Storage or the local path to the python file being run. | String | No |\n",
    "project_id |  The ID of the parent project of the Dataflow job. | GCPProjectID | No |\n",
    "staging_dir | The Cloud Storage directory for keeping staging files. A random subdirectory will be created under the directory to keep job info for resuming the job in case of failure and it will be passed as `staging_location` and `temp_location` command line args of the beam code. | GCSPath | Yes | ` `\n",
    "requirements_file_path |  The Cloud Storageor the local path to the pip requirements file. | String | Yes | ` `\n",
    "args |  The list of arguments to pass to the python file. | List | Yes | `[]`\n",
    "wait_interval |  The seconds to wait between calls to get the job status. | Integer | Yes | `30`\n",
    "\n",
    "## Output:\n",
    "Name | Description | Type\n",
    ":--- | :---------- | :---\n",
    "job_id | The id of the created dataflow job. | String\n",
    "\n",
    "## Cautions and requirements\n",
    "To use the components, the following requirements must be met:\n",
    "* Dataflow API is enabled.\n",
    "* The component is running under a secret [Kubeflow user service account](https://www.kubeflow.org/docs/started/getting-started-gke/#gcp-service-accounts) in a KFP cluster. For example:\n",
    "```\n",
    "component_op(...).apply(gcp.use_gcp_secret('user-gcp-sa'))\n",
    "```\n",
    "* The Kubeflow user service account is a member of `roles/dataflow.developer` role of the project.\n",
    "* The Kubeflow user service account is a member of `roles/storage.objectViewer` role of the Cloud Storage Objects `python_file_path` and `requirements_file_path`.\n",
    "* The Kubeflow user service account is a member of `roles/storage.objectCreator` role of the Cloud Storage Object `staging_dir`.\n",
    "\n",
    "## Detailed description\n",
    "Before using the component, make sure the following files are prepared in a Cloud Storage bucket.\n",
    "* A Beam Python code file.\n",
    "* A `requirements.txt` file which includes a list of dependent packages.\n",
    "\n",
    "The Beam Python code should follow [Beam programing model](https://beam.apache.org/documentation/programming-guide/) and the following additional requirements to be compatible with this component:\n",
    "* It accepts command line arguments: `--project`, `--temp_location`, `--staging_location`, which are [standard Dataflow Runner options](https://cloud.google.com/dataflow/docs/guides/specifying-exec-params#setting-other-cloud-pipeline-options).\n",
    "* Enable info logging before the start of a Dataflow job in the Python code. This is important to allow the component to track the status and ID of create job. For example: calling `logging.getLogger().setLevel(logging.INFO)` before any other code.\n",
    "\n",
    "The component does several things during the execution:\n",
    "* Download `python_file_path` and `requirements_file_path` to local files.\n",
    "* Start a subprocess to launch the Python program.\n",
    "* Monitor the logs produced from the subprocess to extract Dataflow job information.\n",
    "* Store Dataflow job information in `staging_dir` so the job can be resumed in case of failure.\n",
    "* Wait for the job to finish.\n",
    "\n",
    "Here are the steps to use the component in a pipeline:\n",
    "1. Install KFP SDK\n"
   ]
  },
  {
   "cell_type": "code",
   "execution_count": null,
   "metadata": {},
   "outputs": [],
   "source": [
    "%%capture --no-stderr\n",
    "\n",
    "KFP_PACKAGE = 'https://storage.googleapis.com/ml-pipeline/release/0.1.14/kfp.tar.gz'\n",
    "!pip3 install $KFP_PACKAGE --upgrade"
   ]
  },
  {
   "cell_type": "markdown",
   "metadata": {},
   "source": [
    "2. Load the component using KFP SDK"
   ]
  },
  {
   "cell_type": "code",
   "execution_count": null,
   "metadata": {},
   "outputs": [],
   "source": [
    "import kfp.components as comp\n",
    "\n",
    "dataflow_python_op = comp.load_component_from_url(\n",
    "    'https://raw.githubusercontent.com/kubeflow/pipelines/d2f5cc92a46012b9927209e2aaccab70961582dc/components/gcp/dataflow/launch_python/component.yaml')\n",
    "help(dataflow_python_op)"
   ]
  },
  {
   "cell_type": "markdown",
   "metadata": {},
   "source": [
    "For more information about the component, please checkout:\n",
    "* [Component python code](https://github.com/kubeflow/pipelines/blob/master/component_sdk/python/kfp_component/google/dataflow/_launch_python.py)\n",
    "* [Component docker file](https://github.com/kubeflow/pipelines/blob/master/components/gcp/container/Dockerfile)\n",
    "* [Sample notebook](https://github.com/kubeflow/pipelines/blob/master/components/gcp/dataflow/launch_python/sample.ipynb)\n",
    "* [Dataflow Python Quickstart](https://cloud.google.com/dataflow/docs/quickstarts/quickstart-python)\n",
    "\n",
    "### Sample\n",
    "\n",
    "Note: the sample code below works in both IPython notebook or python code directly.\n",
    "\n",
    "In this sample, we run a wordcount sample code in a KFP pipeline. The output will be stored in a Cloud Storage bucket. Here is the sample code:"
   ]
  },
  {
   "cell_type": "code",
   "execution_count": 2,
   "metadata": {},
   "outputs": [
    {
     "name": "stdout",
     "output_type": "stream",
     "text": [
      "#\r\n",
      "# Licensed to the Apache Software Foundation (ASF) under one or more\r\n",
      "# contributor license agreements.  See the NOTICE file distributed with\r\n",
      "# this work for additional information regarding copyright ownership.\r\n",
      "# The ASF licenses this file to You under the Apache License, Version 2.0\r\n",
      "# (the \"License\"); you may not use this file except in compliance with\r\n",
      "# the License.  You may obtain a copy of the License at\r\n",
      "#\r\n",
      "#    http://www.apache.org/licenses/LICENSE-2.0\r\n",
      "#\r\n",
      "# Unless required by applicable law or agreed to in writing, software\r\n",
      "# distributed under the License is distributed on an \"AS IS\" BASIS,\r\n",
      "# WITHOUT WARRANTIES OR CONDITIONS OF ANY KIND, either express or implied.\r\n",
      "# See the License for the specific language governing permissions and\r\n",
      "# limitations under the License.\r\n",
      "#\r\n",
      "\r\n",
      "\"\"\"A minimalist word-counting workflow that counts words in Shakespeare.\r\n",
      "\r\n",
      "This is the first in a series of successively more detailed 'word count'\r\n",
      "examples.\r\n",
      "\r\n",
      "Next, see the wordcount pipeline, then the wordcount_debugging pipeline, for\r\n",
      "more detailed examples that introduce additional concepts.\r\n",
      "\r\n",
      "Concepts:\r\n",
      "\r\n",
      "1. Reading data from text files\r\n",
      "2. Specifying 'inline' transforms\r\n",
      "3. Counting a PCollection\r\n",
      "4. Writing data to Cloud Storage as text files\r\n",
      "\r\n",
      "To execute this pipeline locally, first edit the code to specify the output\r\n",
      "location. Output location could be a local file path or an output prefix\r\n",
      "on GCS. (Only update the output location marked with the first CHANGE comment.)\r\n",
      "\r\n",
      "To execute this pipeline remotely, first edit the code to set your project ID,\r\n",
      "runner type, the staging location, the temp location, and the output location.\r\n",
      "The specified GCS bucket(s) must already exist. (Update all the places marked\r\n",
      "with a CHANGE comment.)\r\n",
      "\r\n",
      "Then, run the pipeline as described in the README. It will be deployed and run\r\n",
      "using the Google Cloud Dataflow Service. No args are required to run the\r\n",
      "pipeline. You can see the results in your output bucket in the GCS browser.\r\n",
      "\"\"\"\r\n",
      "\r\n",
      "from __future__ import absolute_import\r\n",
      "\r\n",
      "import argparse\r\n",
      "import logging\r\n",
      "import re\r\n",
      "\r\n",
      "from past.builtins import unicode\r\n",
      "\r\n",
      "import apache_beam as beam\r\n",
      "from apache_beam.io import ReadFromText\r\n",
      "from apache_beam.io import WriteToText\r\n",
      "from apache_beam.options.pipeline_options import PipelineOptions\r\n",
      "from apache_beam.options.pipeline_options import SetupOptions\r\n",
      "\r\n",
      "\r\n",
      "def run(argv=None):\r\n",
      "  \"\"\"Main entry point; defines and runs the wordcount pipeline.\"\"\"\r\n",
      "\r\n",
      "  parser = argparse.ArgumentParser()\r\n",
      "  parser.add_argument('--input',\r\n",
      "                      dest='input',\r\n",
      "                      default='gs://dataflow-samples/shakespeare/kinglear.txt',\r\n",
      "                      help='Input file to process.')\r\n",
      "  parser.add_argument('--output',\r\n",
      "                      dest='output',\r\n",
      "                      # CHANGE 1/5: The Google Cloud Storage path is required\r\n",
      "                      # for outputting the results.\r\n",
      "                      default='gs://YOUR_OUTPUT_BUCKET/AND_OUTPUT_PREFIX',\r\n",
      "                      help='Output file to write results to.')\r\n",
      "  known_args, pipeline_args = parser.parse_known_args(argv)\r\n",
      "  # pipeline_args.extend([\r\n",
      "  #     # CHANGE 2/5: (OPTIONAL) Change this to DataflowRunner to\r\n",
      "  #     # run your pipeline on the Google Cloud Dataflow Service.\r\n",
      "  #     '--runner=DirectRunner',\r\n",
      "  #     # CHANGE 3/5: Your project ID is required in order to run your pipeline on\r\n",
      "  #     # the Google Cloud Dataflow Service.\r\n",
      "  #     '--project=SET_YOUR_PROJECT_ID_HERE',\r\n",
      "  #     # CHANGE 4/5: Your Google Cloud Storage path is required for staging local\r\n",
      "  #     # files.\r\n",
      "  #     '--staging_location=gs://YOUR_BUCKET_NAME/AND_STAGING_DIRECTORY',\r\n",
      "  #     # CHANGE 5/5: Your Google Cloud Storage path is required for temporary\r\n",
      "  #     # files.\r\n",
      "  #     '--temp_location=gs://YOUR_BUCKET_NAME/AND_TEMP_DIRECTORY',\r\n",
      "  #     '--job_name=your-wordcount-job',\r\n",
      "  # ])\r\n",
      "\r\n",
      "  # We use the save_main_session option because one or more DoFn's in this\r\n",
      "  # workflow rely on global context (e.g., a module imported at module level).\r\n",
      "  pipeline_options = PipelineOptions(pipeline_args)\r\n",
      "  pipeline_options.view_as(SetupOptions).save_main_session = True\r\n",
      "  with beam.Pipeline(options=pipeline_options) as p:\r\n",
      "\r\n",
      "    # Read the text file[pattern] into a PCollection.\r\n",
      "    lines = p | ReadFromText(known_args.input)\r\n",
      "\r\n",
      "    # Count the occurrences of each word.\r\n",
      "    counts = (\r\n",
      "        lines\r\n",
      "        | 'Split' >> (beam.FlatMap(lambda x: re.findall(r'[A-Za-z\\']+', x))\r\n",
      "                      .with_output_types(unicode))\r\n",
      "        | 'PairWithOne' >> beam.Map(lambda x: (x, 1))\r\n",
      "        | 'GroupAndSum' >> beam.CombinePerKey(sum))\r\n",
      "\r\n",
      "    # Format the counts into a PCollection of strings.\r\n",
      "    def format_result(word_count):\r\n",
      "      (word, count) = word_count\r\n",
      "      return '%s: %s' % (word, count)\r\n",
      "\r\n",
      "    output = counts | 'Format' >> beam.Map(format_result)\r\n",
      "\r\n",
      "    # Write the output using a \"Write\" transform that has side effects.\r\n",
      "    # pylint: disable=expression-not-assigned\r\n",
      "    output | WriteToText(known_args.output)\r\n",
      "\r\n",
      "\r\n",
      "if __name__ == '__main__':\r\n",
      "  logging.getLogger().setLevel(logging.INFO)\r\n",
      "  run()\r\n"
     ]
    }
   ],
   "source": [
    "!gsutil cat gs://ml-pipeline-playground/samples/dataflow/wc/wc.py"
   ]
  },
  {
   "cell_type": "markdown",
   "metadata": {},
   "source": [
    "#### Set sample parameters"
   ]
  },
  {
   "cell_type": "code",
   "execution_count": null,
   "metadata": {
    "tags": [
     "parameters"
    ]
   },
   "outputs": [],
   "source": [
    "# Required Parameters\n",
    "PROJECT_ID = '<Please put your project ID here>'\n",
    "GCS_STAGING_DIR = 'gs://<Please put your GCS path here>' # No ending slash"
   ]
  },
  {
   "cell_type": "code",
   "execution_count": null,
   "metadata": {},
   "outputs": [],
   "source": [
    "# Optional Parameters\n",
    "EXPERIMENT_NAME = 'Dataflow - Launch Python'\n",
    "OUTPUT_FILE = '{}/wc/wordcount.out'.format(GCS_STAGING_DIR)"
   ]
  },
  {
   "cell_type": "markdown",
   "metadata": {},
   "source": [
    "#### Example pipeline that uses the component"
   ]
  },
  {
   "cell_type": "code",
   "execution_count": null,
   "metadata": {},
   "outputs": [],
   "source": [
    "import kfp.dsl as dsl\n",
    "import kfp.gcp as gcp\n",
    "import json\n",
    "@dsl.pipeline(\n",
    "    name='Dataflow launch python pipeline',\n",
    "    description='Dataflow launch python pipeline'\n",
    ")\n",
    "def pipeline(\n",
    "    python_file_path = 'gs://ml-pipeline-playground/samples/dataflow/wc/wc.py',\n",
    "    project_id = PROJECT_ID,\n",
    "    staging_dir = GCS_STAGING_DIR,\n",
    "    requirements_file_path = 'gs://ml-pipeline-playground/samples/dataflow/wc/requirements.txt',\n",
    "    args = json.dumps([\n",
    "        '--output', OUTPUT_FILE\n",
    "    ]),\n",
    "    wait_interval = 30\n",
    "):\n",
    "    dataflow_python_op(\n",
    "        python_file_path = python_file_path, \n",
    "        project_id = project_id, \n",
    "        staging_dir = staging_dir, \n",
    "        requirements_file_path = requirements_file_path, \n",
    "        args = args,\n",
    "        wait_interval = wait_interval).apply(gcp.use_gcp_secret('user-gcp-sa'))"
   ]
  },
  {
   "cell_type": "markdown",
   "metadata": {},
   "source": [
    "#### Compile the pipeline"
   ]
  },
  {
   "cell_type": "code",
   "execution_count": null,
   "metadata": {},
   "outputs": [],
   "source": [
    "pipeline_func = pipeline\n",
    "pipeline_filename = pipeline_func.__name__ + '.zip'\n",
    "import kfp.compiler as compiler\n",
    "compiler.Compiler().compile(pipeline_func, pipeline_filename)"
   ]
  },
  {
   "cell_type": "markdown",
   "metadata": {},
   "source": [
    "#### Submit the pipeline for execution"
   ]
  },
  {
   "cell_type": "code",
   "execution_count": null,
   "metadata": {},
   "outputs": [],
   "source": [
    "#Specify pipeline argument values\n",
    "arguments = {}\n",
    "\n",
    "#Get or create an experiment and submit a pipeline run\n",
    "import kfp\n",
    "client = kfp.Client()\n",
    "experiment = client.create_experiment(EXPERIMENT_NAME)\n",
    "\n",
    "#Submit a pipeline run\n",
    "run_name = pipeline_func.__name__ + ' run'\n",
    "run_result = client.run_pipeline(experiment.id, run_name, pipeline_filename, arguments)"
   ]
  },
  {
   "cell_type": "markdown",
   "metadata": {},
   "source": [
    "#### Inspect the output"
   ]
  },
  {
   "cell_type": "code",
   "execution_count": null,
   "metadata": {},
   "outputs": [],
   "source": [
    "!gsutil cat $OUTPUT_FILE"
   ]
  }
 ],
 "metadata": {
  "kernelspec": {
   "display_name": "Python 3",
   "language": "python",
   "name": "python3"
  },
  "language_info": {
   "codemirror_mode": {
    "name": "ipython",
    "version": 3
   },
   "file_extension": ".py",
   "mimetype": "text/x-python",
   "name": "python",
   "nbconvert_exporter": "python",
   "pygments_lexer": "ipython3",
   "version": "3.6.5"
  }
 },
 "nbformat": 4,
 "nbformat_minor": 2
}
