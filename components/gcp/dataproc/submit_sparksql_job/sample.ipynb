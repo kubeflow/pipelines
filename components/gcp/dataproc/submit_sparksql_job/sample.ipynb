{
 "cells": [
  {
   "cell_type": "markdown",
   "metadata": {},
   "source": [
    "# Submitting a SparkSql Job to Cloud Dataproc\n",
    "A Kubeflow Pipeline component to submit a SparkSql job to Google Cloud Dataproc service. \n",
    "\n",
    "## Intended Use\n",
    "Use the component to run an Apache SparkSql job as one preprocessing step in a KFP pipeline. \n",
    "\n",
    "## Runtime arguments\n",
    "Name | Description | Type | Optional | Default\n",
    ":--- | :---------- | :--- | :------- | :------\n",
    "project_id | The Google Cloud Platform (GCP) project ID that the cluster belongs to. | GCPProjectID | No |\n",
    "region | The Dataproc region that handles the request. | GCPRegion | No |\n",
    "cluster_name | The name of the cluster that runs the job. | String | No |\n",
    "queries | The queries to execute. You do not need to terminate a query with a semicolon. Multiple queries can be specified in one string by separating each with a semicolon.  | List | Yes | `[]`\n",
    "query_file_uri | The Hadoop Compatible Filesystem (HCFS) URI of the script that contains SQL queries.| GCSPath | Yes | ` `\n",
    "script_variables | Mapping of query variable names to values (equivalent to the Spark SQL command: SET name=\"value\";). | List | Yes | `[]`\n",
    "sparksql_job | The payload of a [SparkSqlJob](https://cloud.google.com/dataproc/docs/reference/rest/v1/SparkSqlJob). | Dict | Yes | `{}`\n",
    "job | The payload of a [Dataproc job](https://cloud.google.com/dataproc/docs/reference/rest/v1/projects.regions.jobs). | Dict | Yes | `{}`\n",
    "wait_interval | The number of seconds to pause between polling the operation. | Integer | Yes | `30`\n",
    "\n",
    "## Output\n",
    "Name | Description | Type\n",
    ":--- | :---------- | :---\n",
    "job_id | The ID of the created job. | String\n",
    "\n",
    "## Cautions & requirements\n",
    "To use the component, you must:\n",
    "* Setup project by following the [guide](https://cloud.google.com/dataproc/docs/guides/setup-project).\n",
    "* [Create a new cluster](https://cloud.google.com/dataproc/docs/guides/create-cluster).\n",
    "* The component is running under a secret of [Kubeflow user service account](https://www.kubeflow.org/docs/started/getting-started-gke/#gcp-service-accounts) in a Kubeflow cluster. For example:\n",
    "```\n",
    "component_op(...).apply(gcp.use_gcp_secret('user-gcp-sa'))\n",
    "```\n",
    "* Grant Kubeflow user service account the `roles/dataproc.editor` role on the project.\n",
    "\n",
    "## Detailed Description\n",
    "This component creates a Pig job from [Dataproc submit job REST API](https://cloud.google.com/dataproc/docs/reference/rest/v1/projects.regions.jobs/submit).\n",
    "\n",
    "Here are the steps to use the component in a pipeline:\n",
    "1. Install KFP SDK\n"
   ]
  },
  {
   "cell_type": "code",
   "execution_count": null,
   "metadata": {},
   "outputs": [],
   "source": [
    "%%capture --no-stderr\n",
    "\n",
    "KFP_PACKAGE = 'https://storage.googleapis.com/ml-pipeline/release/0.1.14/kfp.tar.gz'\n",
    "!pip3 install $KFP_PACKAGE --upgrade"
   ]
  },
  {
   "cell_type": "markdown",
   "metadata": {},
   "source": [
    "2. Load the component using KFP SDK"
   ]
  },
  {
   "cell_type": "code",
   "execution_count": null,
   "metadata": {},
   "outputs": [],
   "source": [
    "import kfp.components as comp\n",
    "\n",
    "dataproc_submit_sparksql_job_op = comp.load_component_from_url(\n",
    "    'https://raw.githubusercontent.com/kubeflow/pipelines/d2f5cc92a46012b9927209e2aaccab70961582dc/components/gcp/dataproc/submit_sparksql_job/component.yaml')\n",
    "help(dataproc_submit_sparksql_job_op)"
   ]
  },
  {
   "cell_type": "markdown",
   "metadata": {},
   "source": [
    "For more information about the component, please checkout:\n",
    "* [Component python code](https://github.com/kubeflow/pipelines/blob/master/component_sdk/python/kfp_component/google/dataproc/_submit_sparksql_job.py)\n",
    "* [Component docker file](https://github.com/kubeflow/pipelines/blob/master/components/gcp/container/Dockerfile)\n",
    "* [Sample notebook](https://github.com/kubeflow/pipelines/blob/master/components/gcp/dataproc/submit_sparksql_job/sample.ipynb)\n",
    "* [Dataproc SparkSqlJob](https://cloud.google.com/dataproc/docs/reference/rest/v1/SparkSqlJob)\n",
    "\n",
    "### Sample\n",
    "\n",
    "Note: the sample code below works in both IPython notebook or python code directly.\n",
    "\n",
    "#### Setup a Dataproc cluster\n",
    "[Create a new Dataproc cluster](https://cloud.google.com/dataproc/docs/guides/create-cluster) (or reuse an existing one) before running the sample code.\n",
    "\n",
    "#### Prepare SparkSQL job\n",
    "Directly put your SparkSQL queries in the `queires` list or upload your SparkSQL queries into a file to a Google Cloud Storage (GCS) bucket and place the path in `query_file_uri`. In this sample, we will use a hard coded query in the `queries` list to select data from a public CSV file from GCS.\n",
    "\n",
    "For more details about Spark SQL, please checkout the [programming guide](https://spark.apache.org/docs/latest/sql-programming-guide.html)"
   ]
  },
  {
   "cell_type": "markdown",
   "metadata": {},
   "source": [
    "#### Set sample parameters"
   ]
  },
  {
   "cell_type": "code",
   "execution_count": null,
   "metadata": {
    "tags": [
     "parameters"
    ]
   },
   "outputs": [],
   "source": [
    "PROJECT_ID = '<Please put your project ID here>'\n",
    "CLUSTER_NAME = '<Please put your existing cluster name here>'\n",
    "REGION = 'us-central1'\n",
    "QUERY = '''\n",
    "DROP TABLE IF EXISTS natality_csv;\n",
    "CREATE EXTERNAL TABLE natality_csv (\n",
    "  source_year BIGINT, year BIGINT, month BIGINT, day BIGINT, wday BIGINT,\n",
    "  state STRING, is_male BOOLEAN, child_race BIGINT, weight_pounds FLOAT,\n",
    "  plurality BIGINT, apgar_1min BIGINT, apgar_5min BIGINT,\n",
    "  mother_residence_state STRING, mother_race BIGINT, mother_age BIGINT,\n",
    "  gestation_weeks BIGINT, lmp STRING, mother_married BOOLEAN,\n",
    "  mother_birth_state STRING, cigarette_use BOOLEAN, cigarettes_per_day BIGINT,\n",
    "  alcohol_use BOOLEAN, drinks_per_week BIGINT, weight_gain_pounds BIGINT,\n",
    "  born_alive_alive BIGINT, born_alive_dead BIGINT, born_dead BIGINT,\n",
    "  ever_born BIGINT, father_race BIGINT, father_age BIGINT,\n",
    "  record_weight BIGINT\n",
    ")\n",
    "ROW FORMAT DELIMITED FIELDS TERMINATED BY ','\n",
    "LOCATION 'gs://public-datasets/natality/csv';\n",
    "\n",
    "SELECT * FROM natality_csv LIMIT 10;'''\n",
    "EXPERIMENT_NAME = 'Dataproc - Submit SparkSQL Job'"
   ]
  },
  {
   "cell_type": "markdown",
   "metadata": {},
   "source": [
    "#### Example pipeline that uses the component"
   ]
  },
  {
   "cell_type": "code",
   "execution_count": null,
   "metadata": {},
   "outputs": [],
   "source": [
    "import kfp.dsl as dsl\n",
    "import kfp.gcp as gcp\n",
    "import json\n",
    "@dsl.pipeline(\n",
    "    name='Dataproc submit SparkSQL job pipeline',\n",
    "    description='Dataproc submit SparkSQL job pipeline'\n",
    ")\n",
    "def dataproc_submit_sparksql_job_pipeline(\n",
    "    project_id = PROJECT_ID, \n",
    "    region = REGION,\n",
    "    cluster_name = CLUSTER_NAME,\n",
    "    queries = json.dumps([QUERY]),\n",
    "    query_file_uri = '',\n",
    "    script_variables = '', \n",
    "    sparksql_job='', \n",
    "    job='', \n",
    "    wait_interval='30'\n",
    "):\n",
    "    dataproc_submit_sparksql_job_op(\n",
    "        project_id=project_id, \n",
    "        region=region, \n",
    "        cluster_name=cluster_name, \n",
    "        queries=queries, \n",
    "        query_file_uri=query_file_uri,\n",
    "        script_variables=script_variables, \n",
    "        sparksql_job=sparksql_job, \n",
    "        job=job, \n",
    "        wait_interval=wait_interval).apply(gcp.use_gcp_secret('user-gcp-sa'))\n",
    "    "
   ]
  },
  {
   "cell_type": "markdown",
   "metadata": {},
   "source": [
    "#### Compile the pipeline"
   ]
  },
  {
   "cell_type": "code",
   "execution_count": null,
   "metadata": {},
   "outputs": [],
   "source": [
    "pipeline_func = dataproc_submit_sparksql_job_pipeline\n",
    "pipeline_filename = pipeline_func.__name__ + '.zip'\n",
    "import kfp.compiler as compiler\n",
    "compiler.Compiler().compile(pipeline_func, pipeline_filename)"
   ]
  },
  {
   "cell_type": "markdown",
   "metadata": {},
   "source": [
    "#### Submit the pipeline for execution"
   ]
  },
  {
   "cell_type": "code",
   "execution_count": null,
   "metadata": {},
   "outputs": [],
   "source": [
    "#Specify pipeline argument values\n",
    "arguments = {}\n",
    "\n",
    "#Get or create an experiment and submit a pipeline run\n",
    "import kfp\n",
    "client = kfp.Client()\n",
    "experiment = client.create_experiment(EXPERIMENT_NAME)\n",
    "\n",
    "#Submit a pipeline run\n",
    "run_name = pipeline_func.__name__ + ' run'\n",
    "run_result = client.run_pipeline(experiment.id, run_name, pipeline_filename, arguments)"
   ]
  },
  {
   "cell_type": "code",
   "execution_count": null,
   "metadata": {},
   "outputs": [],
   "source": []
  }
 ],
 "metadata": {
  "kernelspec": {
   "display_name": "Python 3",
   "language": "python",
   "name": "python3"
  },
  "language_info": {
   "codemirror_mode": {
    "name": "ipython",
    "version": 3
   },
   "file_extension": ".py",
   "mimetype": "text/x-python",
   "name": "python",
   "nbconvert_exporter": "python",
   "pygments_lexer": "ipython3",
   "version": "3.6.5"
  }
 },
 "nbformat": 4,
 "nbformat_minor": 2
}
