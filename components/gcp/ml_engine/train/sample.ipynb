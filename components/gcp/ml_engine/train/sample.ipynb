{
 "cells": [
  {
   "cell_type": "markdown",
   "metadata": {},
   "source": [
    "# Submitting a Cloud ML training job as a pipeline step\n",
    "A Kubeflow Pipeline component to submit a Cloud Machine Learning (Cloud ML) Engine training job as a step in a pipeline.\n",
    "\n",
    "## Intended Use\n",
    "This component is intended to submit a training job to Cloud Machine Learning (ML) Engine from a Kubeflow Pipelines workflow.\n",
    "\n",
    "## Runtime arguments\n",
    "Name | Description | Type | Optional | Default\n",
    ":--- | :---------- | :--- | :------- | :------\n",
    "project_id | The ID of the parent project of the job. | GCPProjectID | No |\n",
    "python_module | The Python module name to run after installing the packages. | String | Yes | ``\n",
    "package_uris | The Cloud Storage location of the packages (that contain the training program and any additional dependencies). The maximum number of package URIs is 100. | List<GCSPath> | Yes | ``\n",
    "region | The Compute Engine region in which the training job is run. | GCPRegion | Yes | ``\n",
    "args | The command line arguments to pass to the program. | List<String> | Yes | ``\n",
    "job_dir |  The list of arguments to pass to the Python file. | GCSPath | Yes | ``\n",
    "python_version | A Cloud Storage path in which to store the training outputs and other data needed for training. This path is passed to your TensorFlow program as the `job-dir` command-line argument. The benefit of specifying this field is that Cloud ML validates the path for use in training. | String | Yes | ``\n",
    "runtime_version | The Cloud ML Engine runtime version to use for training. If not set, Cloud ML Engine uses the default stable version, 1.0. | String | Yes | ``\n",
    "master_image_uri | The Docker image to run on the master replica. This image must be in Container Registry. | GCRPath | Yes | ``\n",
    "worker_image_uri | The Docker image to run on the worker replica. This image must be in Container Registry. | GCRPath | Yes | ``\n",
    "training_input | The input parameters to create a training job. It is the JSON payload of a [TrainingInput](https://cloud.google.com/ml-engine/reference/rest/v1/projects.jobs#TrainingInput) | Dict | Yes | ``\n",
    "job_id_prefix | The prefix of the generated job id. | String | Yes | ``\n",
    "wait_interval |  A time-interval to wait for between calls to get the job status. | Integer | Yes | `30`\n",
    "\n",
    "## Outputs\n",
    "Name | Description | Type\n",
    ":--- | :---------- | :---\n",
    "job_id | The ID of the created job. | String\n",
    "job_dir | The output path in Cloud Storage of the trainning job, which contains the trained model files. | GCSPath\n",
    "\n",
    "## Cautions & requirements\n",
    "\n",
    "To use the component, you must:\n",
    "* Setup cloud environment by following the [guide](https://cloud.google.com/ml-engine/docs/tensorflow/getting-started-training-prediction#setup).\n",
    "* The component is running under a secret of [Kubeflow user service account](https://www.kubeflow.org/docs/started/getting-started-gke/#gcp-service-accounts) in a Kubeflow cluster. For example:\n",
    "\n",
    "```python\n",
    "mlengine_train_op(...).apply(gcp.use_gcp_secret('user-gcp-sa'))\n",
    "\n",
    "```\n",
    "* Grant Kubeflow user service account the read access to the Cloud Storage buckets which contains the input data, packages or docker images.\n",
    "* Grant Kubeflow user service account the write access to the Cloud Storage bucket of the output directory.\n",
    "\n",
    "\n",
    "## Detailed Description\n",
    "\n",
    "The component accepts one of the two types of executable inputs:\n",
    "* A list of Python packages from Cloud Storage. You may manually build a Python package by following the [guide](https://cloud.google.com/ml-engine/docs/tensorflow/packaging-trainer#manual-build) and [upload it to Cloud Storage](https://cloud.google.com/ml-engine/docs/tensorflow/packaging-trainer#uploading_packages_manually).\n",
    "* Docker container from Google Container Registry (GCR). Follow the [guide](https://cloud.google.com/ml-engine/docs/using-containers) to publish and use a Docker container with this component. \n",
    "\n",
    "The component builds the payload of a [TrainingInput](https://cloud.google.com/ml-engine/reference/rest/v1/projects.jobs#TrainingInput) and submit a job by Cloud Machine Learning Engine REST API.\n",
    "\n",
    "Here are the steps to use the component in a pipeline:\n",
    "1. Install KFP SDK\n"
   ]
  },
  {
   "cell_type": "code",
   "execution_count": null,
   "metadata": {},
   "outputs": [],
   "source": [
    "%%capture --no-stderr\n",
    "\n",
    "KFP_PACKAGE = 'https://storage.googleapis.com/ml-pipeline/release/0.1.14/kfp.tar.gz'\n",
    "!pip3 install $KFP_PACKAGE --upgrade"
   ]
  },
  {
   "cell_type": "markdown",
   "metadata": {},
   "source": [
    "2. Load the component using KFP SDK"
   ]
  },
  {
   "cell_type": "code",
   "execution_count": null,
   "metadata": {},
   "outputs": [],
   "source": [
    "import kfp.components as comp\n",
    "\n",
    "mlengine_train_op = comp.load_component_from_url(\n",
    "    'https://raw.githubusercontent.com/kubeflow/pipelines/d2f5cc92a46012b9927209e2aaccab70961582dc/components/gcp/ml_engine/train/component.yaml')\n",
    "help(mlengine_train_op)"
   ]
  },
  {
   "cell_type": "markdown",
   "metadata": {},
   "source": [
    "For more information about the component, please checkout:\n",
    "* [Component python code](https://github.com/kubeflow/pipelines/blob/master/component_sdk/python/kfp_component/google/ml_engine/_train.py)\n",
    "* [Component docker file](https://github.com/kubeflow/pipelines/blob/master/components/gcp/container/Dockerfile)\n",
    "* [Sample notebook](https://github.com/kubeflow/pipelines/blob/master/components/gcp/ml_engine/train/sample.ipynb)\n",
    "* [Cloud Machine Learning Engine job REST API](https://cloud.google.com/ml-engine/reference/rest/v1/projects.jobs)\n",
    "\n",
    "\n",
    "### Sample\n",
    "Note: The following sample code works in IPython notebook or directly in Python code.\n",
    "\n",
    "In this sample, we use the code from [census estimator sample](https://github.com/GoogleCloudPlatform/cloudml-samples/tree/master/census/estimator) to train a model in Cloud Machine Learning Engine service. In order to pass the code to the service, we need to package the python code and upload it in a Cloud Storage bucket. Make sure that you have read and write permissions on the bucket that you use as the working directory. \n",
    "\n",
    "#### Set sample parameters"
   ]
  },
  {
   "cell_type": "code",
   "execution_count": null,
   "metadata": {
    "tags": [
     "parameters"
    ]
   },
   "outputs": [],
   "source": [
    "# Required Parameters\n",
    "PROJECT_ID = '<Please put your project ID here>'\n",
    "GCS_WORKING_DIR = 'gs://<Please put your GCS path here>' # No ending slash"
   ]
  },
  {
   "cell_type": "code",
   "execution_count": null,
   "metadata": {},
   "outputs": [],
   "source": [
    "# Optional Parameters\n",
    "EXPERIMENT_NAME = 'CLOUDML - Train'\n",
    "TRAINER_GCS_PATH = GCS_WORKING_DIR + '/train/trainer.tar.gz'\n",
    "OUTPUT_GCS_PATH = GCS_WORKING_DIR + '/train/output/'"
   ]
  },
  {
   "cell_type": "markdown",
   "metadata": {},
   "source": [
    "#### Clean up the working directory"
   ]
  },
  {
   "cell_type": "code",
   "execution_count": null,
   "metadata": {},
   "outputs": [],
   "source": [
    "%%capture --no-stderr\n",
    "!gsutil rm -r $GCS_WORKING_DIR"
   ]
  },
  {
   "cell_type": "markdown",
   "metadata": {},
   "source": [
    "#### Download the sample trainer code to local"
   ]
  },
  {
   "cell_type": "code",
   "execution_count": null,
   "metadata": {},
   "outputs": [],
   "source": [
    "%%capture --no-stderr\n",
    "!wget https://github.com/GoogleCloudPlatform/cloudml-samples/archive/master.zip\n",
    "!unzip master.zip"
   ]
  },
  {
   "cell_type": "markdown",
   "metadata": {},
   "source": [
    "#### Package code and upload the package to Cloud Storage"
   ]
  },
  {
   "cell_type": "code",
   "execution_count": null,
   "metadata": {},
   "outputs": [],
   "source": [
    "%%capture --no-stderr\n",
    "%%bash -s \"$TRAINER_GCS_PATH\"\n",
    "pushd ./cloudml-samples-master/census/estimator/\n",
    "python setup.py sdist\n",
    "gsutil cp dist/preprocessing-1.0.tar.gz $1\n",
    "popd\n",
    "rm -fr ./cloudml-samples-master/ ./master.zip ./dist"
   ]
  },
  {
   "cell_type": "markdown",
   "metadata": {},
   "source": [
    "#### Example pipeline that uses the component"
   ]
  },
  {
   "cell_type": "code",
   "execution_count": null,
   "metadata": {},
   "outputs": [],
   "source": [
    "import kfp.dsl as dsl\n",
    "import kfp.gcp as gcp\n",
    "import json\n",
    "@dsl.pipeline(\n",
    "    name='CloudML training pipeline',\n",
    "    description='CloudML training pipeline'\n",
    ")\n",
    "def pipeline(\n",
    "    project_id = PROJECT_ID,\n",
    "    python_module = 'trainer.task',\n",
    "    package_uris = json.dumps([TRAINER_GCS_PATH]),\n",
    "    region = 'us-central1',\n",
    "    args = json.dumps([\n",
    "        '--train-files', 'gs://cloud-samples-data/ml-engine/census/data/adult.data.csv',\n",
    "        '--eval-files', 'gs://cloud-samples-data/ml-engine/census/data/adult.test.csv',\n",
    "        '--train-steps', '1000',\n",
    "        '--eval-steps', '100',\n",
    "        '--verbosity', 'DEBUG'\n",
    "    ]),\n",
    "    job_dir = OUTPUT_GCS_PATH,\n",
    "    python_version = '',\n",
    "    runtime_version = '1.10',\n",
    "    master_image_uri = '',\n",
    "    worker_image_uri = '',\n",
    "    training_input = '',\n",
    "    job_id_prefix = '',\n",
    "    wait_interval = '30'):\n",
    "    task = mlengine_train_op(\n",
    "        project_id=project_id, \n",
    "        python_module=python_module, \n",
    "        package_uris=package_uris, \n",
    "        region=region, \n",
    "        args=args, \n",
    "        job_dir=job_dir, \n",
    "        python_version=python_version,\n",
    "        runtime_version=runtime_version, \n",
    "        master_image_uri=master_image_uri, \n",
    "        worker_image_uri=worker_image_uri, \n",
    "        training_input=training_input, \n",
    "        job_id_prefix=job_id_prefix, \n",
    "        wait_interval=wait_interval).apply(gcp.use_gcp_secret('user-gcp-sa'))"
   ]
  },
  {
   "cell_type": "markdown",
   "metadata": {},
   "source": [
    "#### Compile the pipeline"
   ]
  },
  {
   "cell_type": "code",
   "execution_count": null,
   "metadata": {},
   "outputs": [],
   "source": [
    "pipeline_func = pipeline\n",
    "pipeline_filename = pipeline_func.__name__ + '.zip'\n",
    "import kfp.compiler as compiler\n",
    "compiler.Compiler().compile(pipeline_func, pipeline_filename)"
   ]
  },
  {
   "cell_type": "markdown",
   "metadata": {},
   "source": [
    "#### Submit the pipeline for execution"
   ]
  },
  {
   "cell_type": "code",
   "execution_count": null,
   "metadata": {},
   "outputs": [],
   "source": [
    "#Specify pipeline argument values\n",
    "arguments = {}\n",
    "\n",
    "#Get or create an experiment and submit a pipeline run\n",
    "import kfp\n",
    "client = kfp.Client()\n",
    "experiment = client.create_experiment(EXPERIMENT_NAME)\n",
    "\n",
    "#Submit a pipeline run\n",
    "run_name = pipeline_func.__name__ + ' run'\n",
    "run_result = client.run_pipeline(experiment.id, run_name, pipeline_filename, arguments)"
   ]
  },
  {
   "cell_type": "markdown",
   "metadata": {},
   "source": [
    "#### Inspect the results\n",
    "\n",
    "Follow the `Run` link to open the KFP UI. In the step logs, you should be able to click on the links to:\n",
    "* Job dashboard\n",
    "* And realtime logs on Stackdriver\n",
    "\n",
    "Use the following command to inspect the contents in the output directory:"
   ]
  },
  {
   "cell_type": "code",
   "execution_count": null,
   "metadata": {},
   "outputs": [],
   "source": [
    "!gsutil ls $OUTPUT_GCS_PATH"
   ]
  }
 ],
 "metadata": {
  "kernelspec": {
   "display_name": "Python 3",
   "language": "python",
   "name": "python3"
  },
  "language_info": {
   "codemirror_mode": {
    "name": "ipython",
    "version": 3
   },
   "file_extension": ".py",
   "mimetype": "text/x-python",
   "name": "python",
   "nbconvert_exporter": "python",
   "pygments_lexer": "ipython3",
   "version": "3.6.5"
  }
 },
 "nbformat": 4,
 "nbformat_minor": 2
}
