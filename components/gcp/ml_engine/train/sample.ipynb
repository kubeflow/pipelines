{
 "cells": [
  {
   "cell_type": "markdown",
   "metadata": {},
   "source": [
    "# CloudML - Train\n",
    "\n",
    "## Intended Use\n",
    "A Kubeflow Pipeline component to submit a Cloud Machine Learning Engine training job as a step in a pipeline\n",
    "\n",
    "## Runtime Parameters:\n",
    "Name | Description | Type | Default\n",
    ":--- | :---------- | :--- | :------\n",
    "project_id | Required. The ID of the parent project of the job. | GCPProjectID |\n",
    "python_module | The Python module name to run after installing the packages. | String | ``\n",
    "package_uris | The Google Cloud Storage location of the packages with the training program and any additional dependencies. The maximum number of package URIs is 100. | List | ``\n",
    "region | The Google Compute Engine region to run the training job in. | GCPRegion | ``\n",
    "args | Command line arguments to pass to the program. | List | ``\n",
    "job_dir |  The list of args to pass to the python file. | GCSPath | ``\n",
    "python_version | A Google Cloud Storage path in which to store training outputs and other data needed for training. This path is passed to your TensorFlow program as the `--job-dir` command-line argument. The benefit of specifying this field is that Cloud ML validates the path for use in training. | String | ``\n",
    "runtime_version | The Cloud ML Engine runtime version to use for training. If not set, Cloud ML Engine uses the default stable version, 1.0. | String | ``\n",
    "master_image_uri | The Docker image to run on the master replica. This image must be in Container Registry. | GCRPath | ``\n",
    "worker_image_uri | The Docker image to run on the worker replica. This image must be in Container Registry. | GCRPath | ``\n",
    "training_input | Input parameters to create a training job. | Dict | ``\n",
    "job_id_prefix | The prefix of the generated job id. | String | ``\n",
    "wait_interval |  Optional wait interval between calls to get job status. Defaults to 30. | Integer | `30`\n",
    "\n",
    "## Output:\n",
    "Name | Description | Type\n",
    ":--- | :---------- | :---\n",
    "job_id | The ID of the created job. | String\n",
    "job_dir | The output directory of the job. | GCSPath"
   ]
  },
  {
   "cell_type": "markdown",
   "metadata": {},
   "source": [
    "## Sample\n",
    "\n",
    "Note: the sample code below works in both IPython notebook or python code directly."
   ]
  },
  {
   "cell_type": "markdown",
   "metadata": {},
   "source": [
    "### Set sample parameters"
   ]
  },
  {
   "cell_type": "code",
   "execution_count": null,
   "metadata": {
    "tags": [
     "parameters"
    ]
   },
   "outputs": [],
   "source": [
    "# Required Parameters\n",
    "PROJECT_ID = '<Please put your project ID here>'\n",
    "GCS_WORKING_DIR = 'gs://<Please put your GCS path here>' # No ending slash\n",
    "\n",
    "# Optional Parameters\n",
    "EXPERIMENT_NAME = 'CLOUDML - Train'\n",
    "COMPONENT_SPEC_URI = 'https://raw.githubusercontent.com/kubeflow/pipelines/d2f5cc92a46012b9927209e2aaccab70961582dc/components/gcp/ml_engine/train/component.yaml'"
   ]
  },
  {
   "cell_type": "markdown",
   "metadata": {},
   "source": [
    "### Install KFP SDK"
   ]
  },
  {
   "cell_type": "code",
   "execution_count": null,
   "metadata": {
    "scrolled": true
   },
   "outputs": [],
   "source": [
    "# Install the SDK (Uncomment the code if the SDK is not installed before)\n",
    "# KFP_PACKAGE = 'https://storage.googleapis.com/ml-pipeline/release/0.1.11/kfp.tar.gz'\n",
    "# !pip3 install $KFP_PACKAGE --upgrade"
   ]
  },
  {
   "cell_type": "markdown",
   "metadata": {},
   "source": [
    "### Load component definitions"
   ]
  },
  {
   "cell_type": "code",
   "execution_count": null,
   "metadata": {},
   "outputs": [],
   "source": [
    "import kfp.components as comp\n",
    "\n",
    "mlengine_train_op = comp.load_component_from_url(COMPONENT_SPEC_URI)\n",
    "display(mlengine_train_op)"
   ]
  },
  {
   "cell_type": "markdown",
   "metadata": {},
   "source": [
    "### Here is an illustrative pipeline that uses the component"
   ]
  },
  {
   "cell_type": "code",
   "execution_count": null,
   "metadata": {},
   "outputs": [],
   "source": [
    "import kfp.dsl as dsl\n",
    "import kfp.gcp as gcp\n",
    "import json\n",
    "@dsl.pipeline(\n",
    "    name='CloudML training pipeline',\n",
    "    description='CloudML training pipeline'\n",
    ")\n",
    "def pipeline(\n",
    "    project_id,\n",
    "    python_module,\n",
    "    package_uris,\n",
    "    region,\n",
    "    args = '',\n",
    "    job_dir = '',\n",
    "    python_version = '',\n",
    "    runtime_version = '',\n",
    "    master_image_uri = '',\n",
    "    worker_image_uri = '',\n",
    "    training_input = '',\n",
    "    job_id_prefix = '',\n",
    "    wait_interval = '30'):\n",
    "    task = mlengine_train_op(project_id, python_module, package_uris, region, args, job_dir, python_version,\n",
    "        runtime_version, master_image_uri, worker_image_uri, training_input, job_id_prefix, \n",
    "        wait_interval).apply(gcp.use_gcp_secret('user-gcp-sa'))"
   ]
  },
  {
   "cell_type": "markdown",
   "metadata": {},
   "source": [
    "### Compile the pipeline"
   ]
  },
  {
   "cell_type": "code",
   "execution_count": null,
   "metadata": {},
   "outputs": [],
   "source": [
    "pipeline_func = pipeline\n",
    "pipeline_filename = pipeline_func.__name__ + '.pipeline.tar.gz'\n",
    "import kfp.compiler as compiler\n",
    "compiler.Compiler().compile(pipeline_func, pipeline_filename)"
   ]
  },
  {
   "cell_type": "markdown",
   "metadata": {},
   "source": [
    "### Submit the pipeline for execution"
   ]
  },
  {
   "cell_type": "code",
   "execution_count": null,
   "metadata": {},
   "outputs": [],
   "source": [
    "#Specify pipeline argument values\n",
    "arguments = {\n",
    "    'project_id': PROJECT_ID,\n",
    "    'python_module': 'trainer.task',\n",
    "    'package_uris': json.dumps([\n",
    "        'gs://ml-pipeline-playground/samples/ml_engine/census/trainer.tar.gz'\n",
    "    ]),\n",
    "    'region': 'us-central1',\n",
    "    'args': json.dumps([\n",
    "        '--train-files', 'gs://cloud-samples-data/ml-engine/census/data/adult.data.csv',\n",
    "        '--eval-files', 'gs://cloud-samples-data/ml-engine/census/data/adult.test.csv',\n",
    "        '--train-steps', '1000',\n",
    "        '--eval-steps', '100',\n",
    "        '--verbosity', 'DEBUG'\n",
    "    ]),\n",
    "    'job_dir': GCS_WORKING_DIR + '/train/output/',\n",
    "    'runtime_version': '1.10'\n",
    "}\n",
    "\n",
    "#Get or create an experiment and submit a pipeline run\n",
    "import kfp\n",
    "client = kfp.Client()\n",
    "experiment = client.create_experiment(EXPERIMENT_NAME)\n",
    "\n",
    "#Submit a pipeline run\n",
    "run_name = pipeline_func.__name__ + ' run'\n",
    "run_result = client.run_pipeline(experiment.id, run_name, pipeline_filename, arguments)"
   ]
  }
 ],
 "metadata": {
  "kernelspec": {
   "display_name": "Python 3",
   "language": "python",
   "name": "python3"
  },
  "language_info": {
   "codemirror_mode": {
    "name": "ipython",
    "version": 3
   },
   "file_extension": ".py",
   "mimetype": "text/x-python",
   "name": "python",
   "nbconvert_exporter": "python",
   "pygments_lexer": "ipython3",
   "version": "3.6.4"
  }
 },
 "nbformat": 4,
 "nbformat_minor": 2
}
